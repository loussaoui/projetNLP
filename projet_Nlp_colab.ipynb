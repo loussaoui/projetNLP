{
  "nbformat": 4,
  "nbformat_minor": 0,
  "metadata": {
    "colab": {
      "name": "projet_Nlp_colab.ipynb",
      "provenance": [],
      "collapsed_sections": [],
      "include_colab_link": true
    },
    "kernelspec": {
      "name": "python3",
      "display_name": "Python 3"
    },
    "accelerator": "GPU",
    "widgets": {
      "application/vnd.jupyter.widget-state+json": {
        "f47f14218ba14ede9bd547eebf905d3b": {
          "model_module": "@jupyter-widgets/controls",
          "model_name": "HBoxModel",
          "model_module_version": "1.5.0",
          "state": {
            "_view_name": "HBoxView",
            "_dom_classes": [],
            "_model_name": "HBoxModel",
            "_view_module": "@jupyter-widgets/controls",
            "_model_module_version": "1.5.0",
            "_view_count": null,
            "_view_module_version": "1.5.0",
            "box_style": "",
            "layout": "IPY_MODEL_10dd65cfcac34e93ada593affa86cd51",
            "_model_module": "@jupyter-widgets/controls",
            "children": [
              "IPY_MODEL_17b6e4e88ced44da9597540427fd1d7b",
              "IPY_MODEL_2462d79223fc4df6820391fc24db88e8",
              "IPY_MODEL_d873f84d3ef347cea2e1dcfce6b3fbc2"
            ]
          }
        },
        "10dd65cfcac34e93ada593affa86cd51": {
          "model_module": "@jupyter-widgets/base",
          "model_name": "LayoutModel",
          "model_module_version": "1.2.0",
          "state": {
            "_view_name": "LayoutView",
            "grid_template_rows": null,
            "right": null,
            "justify_content": null,
            "_view_module": "@jupyter-widgets/base",
            "overflow": null,
            "_model_module_version": "1.2.0",
            "_view_count": null,
            "flex_flow": null,
            "width": null,
            "min_width": null,
            "border": null,
            "align_items": null,
            "bottom": null,
            "_model_module": "@jupyter-widgets/base",
            "top": null,
            "grid_column": null,
            "overflow_y": null,
            "overflow_x": null,
            "grid_auto_flow": null,
            "grid_area": null,
            "grid_template_columns": null,
            "flex": null,
            "_model_name": "LayoutModel",
            "justify_items": null,
            "grid_row": null,
            "max_height": null,
            "align_content": null,
            "visibility": null,
            "align_self": null,
            "height": null,
            "min_height": null,
            "padding": null,
            "grid_auto_rows": null,
            "grid_gap": null,
            "max_width": null,
            "order": null,
            "_view_module_version": "1.2.0",
            "grid_template_areas": null,
            "object_position": null,
            "object_fit": null,
            "grid_auto_columns": null,
            "margin": null,
            "display": null,
            "left": null
          }
        },
        "17b6e4e88ced44da9597540427fd1d7b": {
          "model_module": "@jupyter-widgets/controls",
          "model_name": "HTMLModel",
          "model_module_version": "1.5.0",
          "state": {
            "_view_name": "HTMLView",
            "style": "IPY_MODEL_157fd2e7005a4312bd24e5561911fd65",
            "_dom_classes": [],
            "description": "",
            "_model_name": "HTMLModel",
            "placeholder": "​",
            "_view_module": "@jupyter-widgets/controls",
            "_model_module_version": "1.5.0",
            "value": "Downloading: 100%",
            "_view_count": null,
            "_view_module_version": "1.5.0",
            "description_tooltip": null,
            "_model_module": "@jupyter-widgets/controls",
            "layout": "IPY_MODEL_99480b1865f6412c9e599be35f5016af"
          }
        },
        "2462d79223fc4df6820391fc24db88e8": {
          "model_module": "@jupyter-widgets/controls",
          "model_name": "FloatProgressModel",
          "model_module_version": "1.5.0",
          "state": {
            "_view_name": "ProgressView",
            "style": "IPY_MODEL_7c402b24d9c14d57a2e26fce66551d95",
            "_dom_classes": [],
            "description": "",
            "_model_name": "FloatProgressModel",
            "bar_style": "success",
            "max": 2,
            "_view_module": "@jupyter-widgets/controls",
            "_model_module_version": "1.5.0",
            "value": 2,
            "_view_count": null,
            "_view_module_version": "1.5.0",
            "orientation": "horizontal",
            "min": 0,
            "description_tooltip": null,
            "_model_module": "@jupyter-widgets/controls",
            "layout": "IPY_MODEL_b87497b371254a5d8a3793bbcb865391"
          }
        },
        "d873f84d3ef347cea2e1dcfce6b3fbc2": {
          "model_module": "@jupyter-widgets/controls",
          "model_name": "HTMLModel",
          "model_module_version": "1.5.0",
          "state": {
            "_view_name": "HTMLView",
            "style": "IPY_MODEL_fbf55cb5af1f4fd0a3b526c2903d5372",
            "_dom_classes": [],
            "description": "",
            "_model_name": "HTMLModel",
            "placeholder": "​",
            "_view_module": "@jupyter-widgets/controls",
            "_model_module_version": "1.5.0",
            "value": " 2.00/2.00 [00:00&lt;00:00, 46.4B/s]",
            "_view_count": null,
            "_view_module_version": "1.5.0",
            "description_tooltip": null,
            "_model_module": "@jupyter-widgets/controls",
            "layout": "IPY_MODEL_3cc38ce0a1dd4db096d703d60091a5da"
          }
        },
        "157fd2e7005a4312bd24e5561911fd65": {
          "model_module": "@jupyter-widgets/controls",
          "model_name": "DescriptionStyleModel",
          "model_module_version": "1.5.0",
          "state": {
            "_view_name": "StyleView",
            "_model_name": "DescriptionStyleModel",
            "description_width": "",
            "_view_module": "@jupyter-widgets/base",
            "_model_module_version": "1.5.0",
            "_view_count": null,
            "_view_module_version": "1.2.0",
            "_model_module": "@jupyter-widgets/controls"
          }
        },
        "99480b1865f6412c9e599be35f5016af": {
          "model_module": "@jupyter-widgets/base",
          "model_name": "LayoutModel",
          "model_module_version": "1.2.0",
          "state": {
            "_view_name": "LayoutView",
            "grid_template_rows": null,
            "right": null,
            "justify_content": null,
            "_view_module": "@jupyter-widgets/base",
            "overflow": null,
            "_model_module_version": "1.2.0",
            "_view_count": null,
            "flex_flow": null,
            "width": null,
            "min_width": null,
            "border": null,
            "align_items": null,
            "bottom": null,
            "_model_module": "@jupyter-widgets/base",
            "top": null,
            "grid_column": null,
            "overflow_y": null,
            "overflow_x": null,
            "grid_auto_flow": null,
            "grid_area": null,
            "grid_template_columns": null,
            "flex": null,
            "_model_name": "LayoutModel",
            "justify_items": null,
            "grid_row": null,
            "max_height": null,
            "align_content": null,
            "visibility": null,
            "align_self": null,
            "height": null,
            "min_height": null,
            "padding": null,
            "grid_auto_rows": null,
            "grid_gap": null,
            "max_width": null,
            "order": null,
            "_view_module_version": "1.2.0",
            "grid_template_areas": null,
            "object_position": null,
            "object_fit": null,
            "grid_auto_columns": null,
            "margin": null,
            "display": null,
            "left": null
          }
        },
        "7c402b24d9c14d57a2e26fce66551d95": {
          "model_module": "@jupyter-widgets/controls",
          "model_name": "ProgressStyleModel",
          "model_module_version": "1.5.0",
          "state": {
            "_view_name": "StyleView",
            "_model_name": "ProgressStyleModel",
            "description_width": "",
            "_view_module": "@jupyter-widgets/base",
            "_model_module_version": "1.5.0",
            "_view_count": null,
            "_view_module_version": "1.2.0",
            "bar_color": null,
            "_model_module": "@jupyter-widgets/controls"
          }
        },
        "b87497b371254a5d8a3793bbcb865391": {
          "model_module": "@jupyter-widgets/base",
          "model_name": "LayoutModel",
          "model_module_version": "1.2.0",
          "state": {
            "_view_name": "LayoutView",
            "grid_template_rows": null,
            "right": null,
            "justify_content": null,
            "_view_module": "@jupyter-widgets/base",
            "overflow": null,
            "_model_module_version": "1.2.0",
            "_view_count": null,
            "flex_flow": null,
            "width": null,
            "min_width": null,
            "border": null,
            "align_items": null,
            "bottom": null,
            "_model_module": "@jupyter-widgets/base",
            "top": null,
            "grid_column": null,
            "overflow_y": null,
            "overflow_x": null,
            "grid_auto_flow": null,
            "grid_area": null,
            "grid_template_columns": null,
            "flex": null,
            "_model_name": "LayoutModel",
            "justify_items": null,
            "grid_row": null,
            "max_height": null,
            "align_content": null,
            "visibility": null,
            "align_self": null,
            "height": null,
            "min_height": null,
            "padding": null,
            "grid_auto_rows": null,
            "grid_gap": null,
            "max_width": null,
            "order": null,
            "_view_module_version": "1.2.0",
            "grid_template_areas": null,
            "object_position": null,
            "object_fit": null,
            "grid_auto_columns": null,
            "margin": null,
            "display": null,
            "left": null
          }
        },
        "fbf55cb5af1f4fd0a3b526c2903d5372": {
          "model_module": "@jupyter-widgets/controls",
          "model_name": "DescriptionStyleModel",
          "model_module_version": "1.5.0",
          "state": {
            "_view_name": "StyleView",
            "_model_name": "DescriptionStyleModel",
            "description_width": "",
            "_view_module": "@jupyter-widgets/base",
            "_model_module_version": "1.5.0",
            "_view_count": null,
            "_view_module_version": "1.2.0",
            "_model_module": "@jupyter-widgets/controls"
          }
        },
        "3cc38ce0a1dd4db096d703d60091a5da": {
          "model_module": "@jupyter-widgets/base",
          "model_name": "LayoutModel",
          "model_module_version": "1.2.0",
          "state": {
            "_view_name": "LayoutView",
            "grid_template_rows": null,
            "right": null,
            "justify_content": null,
            "_view_module": "@jupyter-widgets/base",
            "overflow": null,
            "_model_module_version": "1.2.0",
            "_view_count": null,
            "flex_flow": null,
            "width": null,
            "min_width": null,
            "border": null,
            "align_items": null,
            "bottom": null,
            "_model_module": "@jupyter-widgets/base",
            "top": null,
            "grid_column": null,
            "overflow_y": null,
            "overflow_x": null,
            "grid_auto_flow": null,
            "grid_area": null,
            "grid_template_columns": null,
            "flex": null,
            "_model_name": "LayoutModel",
            "justify_items": null,
            "grid_row": null,
            "max_height": null,
            "align_content": null,
            "visibility": null,
            "align_self": null,
            "height": null,
            "min_height": null,
            "padding": null,
            "grid_auto_rows": null,
            "grid_gap": null,
            "max_width": null,
            "order": null,
            "_view_module_version": "1.2.0",
            "grid_template_areas": null,
            "object_position": null,
            "object_fit": null,
            "grid_auto_columns": null,
            "margin": null,
            "display": null,
            "left": null
          }
        },
        "0959053c9b8444659cff460c1a9b2d40": {
          "model_module": "@jupyter-widgets/controls",
          "model_name": "HBoxModel",
          "model_module_version": "1.5.0",
          "state": {
            "_view_name": "HBoxView",
            "_dom_classes": [],
            "_model_name": "HBoxModel",
            "_view_module": "@jupyter-widgets/controls",
            "_model_module_version": "1.5.0",
            "_view_count": null,
            "_view_module_version": "1.5.0",
            "box_style": "",
            "layout": "IPY_MODEL_cb46814284994de1b37bfcb7fd2d665e",
            "_model_module": "@jupyter-widgets/controls",
            "children": [
              "IPY_MODEL_1df4cbf9381648729c34565012f172d2",
              "IPY_MODEL_f0d754b4e6b84decbc4abb7d4178c957",
              "IPY_MODEL_440baedc881b4c0896b0031be2d4cb05"
            ]
          }
        },
        "cb46814284994de1b37bfcb7fd2d665e": {
          "model_module": "@jupyter-widgets/base",
          "model_name": "LayoutModel",
          "model_module_version": "1.2.0",
          "state": {
            "_view_name": "LayoutView",
            "grid_template_rows": null,
            "right": null,
            "justify_content": null,
            "_view_module": "@jupyter-widgets/base",
            "overflow": null,
            "_model_module_version": "1.2.0",
            "_view_count": null,
            "flex_flow": null,
            "width": null,
            "min_width": null,
            "border": null,
            "align_items": null,
            "bottom": null,
            "_model_module": "@jupyter-widgets/base",
            "top": null,
            "grid_column": null,
            "overflow_y": null,
            "overflow_x": null,
            "grid_auto_flow": null,
            "grid_area": null,
            "grid_template_columns": null,
            "flex": null,
            "_model_name": "LayoutModel",
            "justify_items": null,
            "grid_row": null,
            "max_height": null,
            "align_content": null,
            "visibility": null,
            "align_self": null,
            "height": null,
            "min_height": null,
            "padding": null,
            "grid_auto_rows": null,
            "grid_gap": null,
            "max_width": null,
            "order": null,
            "_view_module_version": "1.2.0",
            "grid_template_areas": null,
            "object_position": null,
            "object_fit": null,
            "grid_auto_columns": null,
            "margin": null,
            "display": null,
            "left": null
          }
        },
        "1df4cbf9381648729c34565012f172d2": {
          "model_module": "@jupyter-widgets/controls",
          "model_name": "HTMLModel",
          "model_module_version": "1.5.0",
          "state": {
            "_view_name": "HTMLView",
            "style": "IPY_MODEL_0a97461f844f40b5bc208cfd5998d228",
            "_dom_classes": [],
            "description": "",
            "_model_name": "HTMLModel",
            "placeholder": "​",
            "_view_module": "@jupyter-widgets/controls",
            "_model_module_version": "1.5.0",
            "value": "Downloading: 100%",
            "_view_count": null,
            "_view_module_version": "1.5.0",
            "description_tooltip": null,
            "_model_module": "@jupyter-widgets/controls",
            "layout": "IPY_MODEL_617d8527715e45dab1c119fd0696a7c9"
          }
        },
        "f0d754b4e6b84decbc4abb7d4178c957": {
          "model_module": "@jupyter-widgets/controls",
          "model_name": "FloatProgressModel",
          "model_module_version": "1.5.0",
          "state": {
            "_view_name": "ProgressView",
            "style": "IPY_MODEL_ef47ff464527480680f7c380917ae206",
            "_dom_classes": [],
            "description": "",
            "_model_name": "FloatProgressModel",
            "bar_style": "success",
            "max": 666,
            "_view_module": "@jupyter-widgets/controls",
            "_model_module_version": "1.5.0",
            "value": 666,
            "_view_count": null,
            "_view_module_version": "1.5.0",
            "orientation": "horizontal",
            "min": 0,
            "description_tooltip": null,
            "_model_module": "@jupyter-widgets/controls",
            "layout": "IPY_MODEL_e08635efef7c41759f91ae88e5310041"
          }
        },
        "440baedc881b4c0896b0031be2d4cb05": {
          "model_module": "@jupyter-widgets/controls",
          "model_name": "HTMLModel",
          "model_module_version": "1.5.0",
          "state": {
            "_view_name": "HTMLView",
            "style": "IPY_MODEL_629a1a58ca83422d96641e74f1cf117f",
            "_dom_classes": [],
            "description": "",
            "_model_name": "HTMLModel",
            "placeholder": "​",
            "_view_module": "@jupyter-widgets/controls",
            "_model_module_version": "1.5.0",
            "value": " 666/666 [00:00&lt;00:00, 16.1kB/s]",
            "_view_count": null,
            "_view_module_version": "1.5.0",
            "description_tooltip": null,
            "_model_module": "@jupyter-widgets/controls",
            "layout": "IPY_MODEL_87f53d9d9e854355b1c78e40dc777748"
          }
        },
        "0a97461f844f40b5bc208cfd5998d228": {
          "model_module": "@jupyter-widgets/controls",
          "model_name": "DescriptionStyleModel",
          "model_module_version": "1.5.0",
          "state": {
            "_view_name": "StyleView",
            "_model_name": "DescriptionStyleModel",
            "description_width": "",
            "_view_module": "@jupyter-widgets/base",
            "_model_module_version": "1.5.0",
            "_view_count": null,
            "_view_module_version": "1.2.0",
            "_model_module": "@jupyter-widgets/controls"
          }
        },
        "617d8527715e45dab1c119fd0696a7c9": {
          "model_module": "@jupyter-widgets/base",
          "model_name": "LayoutModel",
          "model_module_version": "1.2.0",
          "state": {
            "_view_name": "LayoutView",
            "grid_template_rows": null,
            "right": null,
            "justify_content": null,
            "_view_module": "@jupyter-widgets/base",
            "overflow": null,
            "_model_module_version": "1.2.0",
            "_view_count": null,
            "flex_flow": null,
            "width": null,
            "min_width": null,
            "border": null,
            "align_items": null,
            "bottom": null,
            "_model_module": "@jupyter-widgets/base",
            "top": null,
            "grid_column": null,
            "overflow_y": null,
            "overflow_x": null,
            "grid_auto_flow": null,
            "grid_area": null,
            "grid_template_columns": null,
            "flex": null,
            "_model_name": "LayoutModel",
            "justify_items": null,
            "grid_row": null,
            "max_height": null,
            "align_content": null,
            "visibility": null,
            "align_self": null,
            "height": null,
            "min_height": null,
            "padding": null,
            "grid_auto_rows": null,
            "grid_gap": null,
            "max_width": null,
            "order": null,
            "_view_module_version": "1.2.0",
            "grid_template_areas": null,
            "object_position": null,
            "object_fit": null,
            "grid_auto_columns": null,
            "margin": null,
            "display": null,
            "left": null
          }
        },
        "ef47ff464527480680f7c380917ae206": {
          "model_module": "@jupyter-widgets/controls",
          "model_name": "ProgressStyleModel",
          "model_module_version": "1.5.0",
          "state": {
            "_view_name": "StyleView",
            "_model_name": "ProgressStyleModel",
            "description_width": "",
            "_view_module": "@jupyter-widgets/base",
            "_model_module_version": "1.5.0",
            "_view_count": null,
            "_view_module_version": "1.2.0",
            "bar_color": null,
            "_model_module": "@jupyter-widgets/controls"
          }
        },
        "e08635efef7c41759f91ae88e5310041": {
          "model_module": "@jupyter-widgets/base",
          "model_name": "LayoutModel",
          "model_module_version": "1.2.0",
          "state": {
            "_view_name": "LayoutView",
            "grid_template_rows": null,
            "right": null,
            "justify_content": null,
            "_view_module": "@jupyter-widgets/base",
            "overflow": null,
            "_model_module_version": "1.2.0",
            "_view_count": null,
            "flex_flow": null,
            "width": null,
            "min_width": null,
            "border": null,
            "align_items": null,
            "bottom": null,
            "_model_module": "@jupyter-widgets/base",
            "top": null,
            "grid_column": null,
            "overflow_y": null,
            "overflow_x": null,
            "grid_auto_flow": null,
            "grid_area": null,
            "grid_template_columns": null,
            "flex": null,
            "_model_name": "LayoutModel",
            "justify_items": null,
            "grid_row": null,
            "max_height": null,
            "align_content": null,
            "visibility": null,
            "align_self": null,
            "height": null,
            "min_height": null,
            "padding": null,
            "grid_auto_rows": null,
            "grid_gap": null,
            "max_width": null,
            "order": null,
            "_view_module_version": "1.2.0",
            "grid_template_areas": null,
            "object_position": null,
            "object_fit": null,
            "grid_auto_columns": null,
            "margin": null,
            "display": null,
            "left": null
          }
        },
        "629a1a58ca83422d96641e74f1cf117f": {
          "model_module": "@jupyter-widgets/controls",
          "model_name": "DescriptionStyleModel",
          "model_module_version": "1.5.0",
          "state": {
            "_view_name": "StyleView",
            "_model_name": "DescriptionStyleModel",
            "description_width": "",
            "_view_module": "@jupyter-widgets/base",
            "_model_module_version": "1.5.0",
            "_view_count": null,
            "_view_module_version": "1.2.0",
            "_model_module": "@jupyter-widgets/controls"
          }
        },
        "87f53d9d9e854355b1c78e40dc777748": {
          "model_module": "@jupyter-widgets/base",
          "model_name": "LayoutModel",
          "model_module_version": "1.2.0",
          "state": {
            "_view_name": "LayoutView",
            "grid_template_rows": null,
            "right": null,
            "justify_content": null,
            "_view_module": "@jupyter-widgets/base",
            "overflow": null,
            "_model_module_version": "1.2.0",
            "_view_count": null,
            "flex_flow": null,
            "width": null,
            "min_width": null,
            "border": null,
            "align_items": null,
            "bottom": null,
            "_model_module": "@jupyter-widgets/base",
            "top": null,
            "grid_column": null,
            "overflow_y": null,
            "overflow_x": null,
            "grid_auto_flow": null,
            "grid_area": null,
            "grid_template_columns": null,
            "flex": null,
            "_model_name": "LayoutModel",
            "justify_items": null,
            "grid_row": null,
            "max_height": null,
            "align_content": null,
            "visibility": null,
            "align_self": null,
            "height": null,
            "min_height": null,
            "padding": null,
            "grid_auto_rows": null,
            "grid_gap": null,
            "max_width": null,
            "order": null,
            "_view_module_version": "1.2.0",
            "grid_template_areas": null,
            "object_position": null,
            "object_fit": null,
            "grid_auto_columns": null,
            "margin": null,
            "display": null,
            "left": null
          }
        },
        "a077791accc3495e8976c2ef128d7858": {
          "model_module": "@jupyter-widgets/controls",
          "model_name": "HBoxModel",
          "model_module_version": "1.5.0",
          "state": {
            "_view_name": "HBoxView",
            "_dom_classes": [],
            "_model_name": "HBoxModel",
            "_view_module": "@jupyter-widgets/controls",
            "_model_module_version": "1.5.0",
            "_view_count": null,
            "_view_module_version": "1.5.0",
            "box_style": "",
            "layout": "IPY_MODEL_ccd38d9963ce4173aacf325d7eff72a6",
            "_model_module": "@jupyter-widgets/controls",
            "children": [
              "IPY_MODEL_39864f0e832846c8a8cd55b42e57d249",
              "IPY_MODEL_d24c2ae2cdec4ad0840059b3f26b3362",
              "IPY_MODEL_e0decb22c38747579fa5244eff293735"
            ]
          }
        },
        "ccd38d9963ce4173aacf325d7eff72a6": {
          "model_module": "@jupyter-widgets/base",
          "model_name": "LayoutModel",
          "model_module_version": "1.2.0",
          "state": {
            "_view_name": "LayoutView",
            "grid_template_rows": null,
            "right": null,
            "justify_content": null,
            "_view_module": "@jupyter-widgets/base",
            "overflow": null,
            "_model_module_version": "1.2.0",
            "_view_count": null,
            "flex_flow": null,
            "width": null,
            "min_width": null,
            "border": null,
            "align_items": null,
            "bottom": null,
            "_model_module": "@jupyter-widgets/base",
            "top": null,
            "grid_column": null,
            "overflow_y": null,
            "overflow_x": null,
            "grid_auto_flow": null,
            "grid_area": null,
            "grid_template_columns": null,
            "flex": null,
            "_model_name": "LayoutModel",
            "justify_items": null,
            "grid_row": null,
            "max_height": null,
            "align_content": null,
            "visibility": null,
            "align_self": null,
            "height": null,
            "min_height": null,
            "padding": null,
            "grid_auto_rows": null,
            "grid_gap": null,
            "max_width": null,
            "order": null,
            "_view_module_version": "1.2.0",
            "grid_template_areas": null,
            "object_position": null,
            "object_fit": null,
            "grid_auto_columns": null,
            "margin": null,
            "display": null,
            "left": null
          }
        },
        "39864f0e832846c8a8cd55b42e57d249": {
          "model_module": "@jupyter-widgets/controls",
          "model_name": "HTMLModel",
          "model_module_version": "1.5.0",
          "state": {
            "_view_name": "HTMLView",
            "style": "IPY_MODEL_fc9602b2bc0248debaa93852e91a1bf0",
            "_dom_classes": [],
            "description": "",
            "_model_name": "HTMLModel",
            "placeholder": "​",
            "_view_module": "@jupyter-widgets/controls",
            "_model_module_version": "1.5.0",
            "value": "Downloading: 100%",
            "_view_count": null,
            "_view_module_version": "1.5.0",
            "description_tooltip": null,
            "_model_module": "@jupyter-widgets/controls",
            "layout": "IPY_MODEL_e52b71ba63b0469e91ea44aaac739a59"
          }
        },
        "d24c2ae2cdec4ad0840059b3f26b3362": {
          "model_module": "@jupyter-widgets/controls",
          "model_name": "FloatProgressModel",
          "model_module_version": "1.5.0",
          "state": {
            "_view_name": "ProgressView",
            "style": "IPY_MODEL_56985ea15c7a450aa301874ed88c2fdc",
            "_dom_classes": [],
            "description": "",
            "_model_name": "FloatProgressModel",
            "bar_style": "success",
            "max": 810912,
            "_view_module": "@jupyter-widgets/controls",
            "_model_module_version": "1.5.0",
            "value": 810912,
            "_view_count": null,
            "_view_module_version": "1.5.0",
            "orientation": "horizontal",
            "min": 0,
            "description_tooltip": null,
            "_model_module": "@jupyter-widgets/controls",
            "layout": "IPY_MODEL_32b62b152f38407683d8fa40268069b8"
          }
        },
        "e0decb22c38747579fa5244eff293735": {
          "model_module": "@jupyter-widgets/controls",
          "model_name": "HTMLModel",
          "model_module_version": "1.5.0",
          "state": {
            "_view_name": "HTMLView",
            "style": "IPY_MODEL_27e5d8db107d4a5093e19d7227b71c3f",
            "_dom_classes": [],
            "description": "",
            "_model_name": "HTMLModel",
            "placeholder": "​",
            "_view_module": "@jupyter-widgets/controls",
            "_model_module_version": "1.5.0",
            "value": " 811k/811k [00:00&lt;00:00, 862kB/s]",
            "_view_count": null,
            "_view_module_version": "1.5.0",
            "description_tooltip": null,
            "_model_module": "@jupyter-widgets/controls",
            "layout": "IPY_MODEL_81a7f688f27240de98a8913df4b75f33"
          }
        },
        "fc9602b2bc0248debaa93852e91a1bf0": {
          "model_module": "@jupyter-widgets/controls",
          "model_name": "DescriptionStyleModel",
          "model_module_version": "1.5.0",
          "state": {
            "_view_name": "StyleView",
            "_model_name": "DescriptionStyleModel",
            "description_width": "",
            "_view_module": "@jupyter-widgets/base",
            "_model_module_version": "1.5.0",
            "_view_count": null,
            "_view_module_version": "1.2.0",
            "_model_module": "@jupyter-widgets/controls"
          }
        },
        "e52b71ba63b0469e91ea44aaac739a59": {
          "model_module": "@jupyter-widgets/base",
          "model_name": "LayoutModel",
          "model_module_version": "1.2.0",
          "state": {
            "_view_name": "LayoutView",
            "grid_template_rows": null,
            "right": null,
            "justify_content": null,
            "_view_module": "@jupyter-widgets/base",
            "overflow": null,
            "_model_module_version": "1.2.0",
            "_view_count": null,
            "flex_flow": null,
            "width": null,
            "min_width": null,
            "border": null,
            "align_items": null,
            "bottom": null,
            "_model_module": "@jupyter-widgets/base",
            "top": null,
            "grid_column": null,
            "overflow_y": null,
            "overflow_x": null,
            "grid_auto_flow": null,
            "grid_area": null,
            "grid_template_columns": null,
            "flex": null,
            "_model_name": "LayoutModel",
            "justify_items": null,
            "grid_row": null,
            "max_height": null,
            "align_content": null,
            "visibility": null,
            "align_self": null,
            "height": null,
            "min_height": null,
            "padding": null,
            "grid_auto_rows": null,
            "grid_gap": null,
            "max_width": null,
            "order": null,
            "_view_module_version": "1.2.0",
            "grid_template_areas": null,
            "object_position": null,
            "object_fit": null,
            "grid_auto_columns": null,
            "margin": null,
            "display": null,
            "left": null
          }
        },
        "56985ea15c7a450aa301874ed88c2fdc": {
          "model_module": "@jupyter-widgets/controls",
          "model_name": "ProgressStyleModel",
          "model_module_version": "1.5.0",
          "state": {
            "_view_name": "StyleView",
            "_model_name": "ProgressStyleModel",
            "description_width": "",
            "_view_module": "@jupyter-widgets/base",
            "_model_module_version": "1.5.0",
            "_view_count": null,
            "_view_module_version": "1.2.0",
            "bar_color": null,
            "_model_module": "@jupyter-widgets/controls"
          }
        },
        "32b62b152f38407683d8fa40268069b8": {
          "model_module": "@jupyter-widgets/base",
          "model_name": "LayoutModel",
          "model_module_version": "1.2.0",
          "state": {
            "_view_name": "LayoutView",
            "grid_template_rows": null,
            "right": null,
            "justify_content": null,
            "_view_module": "@jupyter-widgets/base",
            "overflow": null,
            "_model_module_version": "1.2.0",
            "_view_count": null,
            "flex_flow": null,
            "width": null,
            "min_width": null,
            "border": null,
            "align_items": null,
            "bottom": null,
            "_model_module": "@jupyter-widgets/base",
            "top": null,
            "grid_column": null,
            "overflow_y": null,
            "overflow_x": null,
            "grid_auto_flow": null,
            "grid_area": null,
            "grid_template_columns": null,
            "flex": null,
            "_model_name": "LayoutModel",
            "justify_items": null,
            "grid_row": null,
            "max_height": null,
            "align_content": null,
            "visibility": null,
            "align_self": null,
            "height": null,
            "min_height": null,
            "padding": null,
            "grid_auto_rows": null,
            "grid_gap": null,
            "max_width": null,
            "order": null,
            "_view_module_version": "1.2.0",
            "grid_template_areas": null,
            "object_position": null,
            "object_fit": null,
            "grid_auto_columns": null,
            "margin": null,
            "display": null,
            "left": null
          }
        },
        "27e5d8db107d4a5093e19d7227b71c3f": {
          "model_module": "@jupyter-widgets/controls",
          "model_name": "DescriptionStyleModel",
          "model_module_version": "1.5.0",
          "state": {
            "_view_name": "StyleView",
            "_model_name": "DescriptionStyleModel",
            "description_width": "",
            "_view_module": "@jupyter-widgets/base",
            "_model_module_version": "1.5.0",
            "_view_count": null,
            "_view_module_version": "1.2.0",
            "_model_module": "@jupyter-widgets/controls"
          }
        },
        "81a7f688f27240de98a8913df4b75f33": {
          "model_module": "@jupyter-widgets/base",
          "model_name": "LayoutModel",
          "model_module_version": "1.2.0",
          "state": {
            "_view_name": "LayoutView",
            "grid_template_rows": null,
            "right": null,
            "justify_content": null,
            "_view_module": "@jupyter-widgets/base",
            "overflow": null,
            "_model_module_version": "1.2.0",
            "_view_count": null,
            "flex_flow": null,
            "width": null,
            "min_width": null,
            "border": null,
            "align_items": null,
            "bottom": null,
            "_model_module": "@jupyter-widgets/base",
            "top": null,
            "grid_column": null,
            "overflow_y": null,
            "overflow_x": null,
            "grid_auto_flow": null,
            "grid_area": null,
            "grid_template_columns": null,
            "flex": null,
            "_model_name": "LayoutModel",
            "justify_items": null,
            "grid_row": null,
            "max_height": null,
            "align_content": null,
            "visibility": null,
            "align_self": null,
            "height": null,
            "min_height": null,
            "padding": null,
            "grid_auto_rows": null,
            "grid_gap": null,
            "max_width": null,
            "order": null,
            "_view_module_version": "1.2.0",
            "grid_template_areas": null,
            "object_position": null,
            "object_fit": null,
            "grid_auto_columns": null,
            "margin": null,
            "display": null,
            "left": null
          }
        },
        "1f1ac071eacf457eaf65c2a7fe9edd16": {
          "model_module": "@jupyter-widgets/controls",
          "model_name": "HBoxModel",
          "model_module_version": "1.5.0",
          "state": {
            "_view_name": "HBoxView",
            "_dom_classes": [],
            "_model_name": "HBoxModel",
            "_view_module": "@jupyter-widgets/controls",
            "_model_module_version": "1.5.0",
            "_view_count": null,
            "_view_module_version": "1.5.0",
            "box_style": "",
            "layout": "IPY_MODEL_1dd36544d3394e8999a79398fa264868",
            "_model_module": "@jupyter-widgets/controls",
            "children": [
              "IPY_MODEL_541c652a3ec3491fac30a8b83d465249",
              "IPY_MODEL_fa98c4f054b54c7c95ecfb2de4d6f601",
              "IPY_MODEL_c26ce5f181964c6a93322a758e8015e1"
            ]
          }
        },
        "1dd36544d3394e8999a79398fa264868": {
          "model_module": "@jupyter-widgets/base",
          "model_name": "LayoutModel",
          "model_module_version": "1.2.0",
          "state": {
            "_view_name": "LayoutView",
            "grid_template_rows": null,
            "right": null,
            "justify_content": null,
            "_view_module": "@jupyter-widgets/base",
            "overflow": null,
            "_model_module_version": "1.2.0",
            "_view_count": null,
            "flex_flow": null,
            "width": null,
            "min_width": null,
            "border": null,
            "align_items": null,
            "bottom": null,
            "_model_module": "@jupyter-widgets/base",
            "top": null,
            "grid_column": null,
            "overflow_y": null,
            "overflow_x": null,
            "grid_auto_flow": null,
            "grid_area": null,
            "grid_template_columns": null,
            "flex": null,
            "_model_name": "LayoutModel",
            "justify_items": null,
            "grid_row": null,
            "max_height": null,
            "align_content": null,
            "visibility": null,
            "align_self": null,
            "height": null,
            "min_height": null,
            "padding": null,
            "grid_auto_rows": null,
            "grid_gap": null,
            "max_width": null,
            "order": null,
            "_view_module_version": "1.2.0",
            "grid_template_areas": null,
            "object_position": null,
            "object_fit": null,
            "grid_auto_columns": null,
            "margin": null,
            "display": null,
            "left": null
          }
        },
        "541c652a3ec3491fac30a8b83d465249": {
          "model_module": "@jupyter-widgets/controls",
          "model_name": "HTMLModel",
          "model_module_version": "1.5.0",
          "state": {
            "_view_name": "HTMLView",
            "style": "IPY_MODEL_c2813feb02464fdba8b6bf7f3abea3d1",
            "_dom_classes": [],
            "description": "",
            "_model_name": "HTMLModel",
            "placeholder": "​",
            "_view_module": "@jupyter-widgets/controls",
            "_model_module_version": "1.5.0",
            "value": "Downloading: 100%",
            "_view_count": null,
            "_view_module_version": "1.5.0",
            "description_tooltip": null,
            "_model_module": "@jupyter-widgets/controls",
            "layout": "IPY_MODEL_3a3ca209304842f19d5c2feb8889cb9e"
          }
        },
        "fa98c4f054b54c7c95ecfb2de4d6f601": {
          "model_module": "@jupyter-widgets/controls",
          "model_name": "FloatProgressModel",
          "model_module_version": "1.5.0",
          "state": {
            "_view_name": "ProgressView",
            "style": "IPY_MODEL_6011e1febd0647f3a89617040a859ac7",
            "_dom_classes": [],
            "description": "",
            "_model_name": "FloatProgressModel",
            "bar_style": "success",
            "max": 210,
            "_view_module": "@jupyter-widgets/controls",
            "_model_module_version": "1.5.0",
            "value": 210,
            "_view_count": null,
            "_view_module_version": "1.5.0",
            "orientation": "horizontal",
            "min": 0,
            "description_tooltip": null,
            "_model_module": "@jupyter-widgets/controls",
            "layout": "IPY_MODEL_b7eef2376f48438ea9c8b0cfa8a38df6"
          }
        },
        "c26ce5f181964c6a93322a758e8015e1": {
          "model_module": "@jupyter-widgets/controls",
          "model_name": "HTMLModel",
          "model_module_version": "1.5.0",
          "state": {
            "_view_name": "HTMLView",
            "style": "IPY_MODEL_6940e758238e4a7f84ce1a07d0cfbf8c",
            "_dom_classes": [],
            "description": "",
            "_model_name": "HTMLModel",
            "placeholder": "​",
            "_view_module": "@jupyter-widgets/controls",
            "_model_module_version": "1.5.0",
            "value": " 210/210 [00:00&lt;00:00, 5.13kB/s]",
            "_view_count": null,
            "_view_module_version": "1.5.0",
            "description_tooltip": null,
            "_model_module": "@jupyter-widgets/controls",
            "layout": "IPY_MODEL_bc1fe86d73ba4091a973690d604e1dc0"
          }
        },
        "c2813feb02464fdba8b6bf7f3abea3d1": {
          "model_module": "@jupyter-widgets/controls",
          "model_name": "DescriptionStyleModel",
          "model_module_version": "1.5.0",
          "state": {
            "_view_name": "StyleView",
            "_model_name": "DescriptionStyleModel",
            "description_width": "",
            "_view_module": "@jupyter-widgets/base",
            "_model_module_version": "1.5.0",
            "_view_count": null,
            "_view_module_version": "1.2.0",
            "_model_module": "@jupyter-widgets/controls"
          }
        },
        "3a3ca209304842f19d5c2feb8889cb9e": {
          "model_module": "@jupyter-widgets/base",
          "model_name": "LayoutModel",
          "model_module_version": "1.2.0",
          "state": {
            "_view_name": "LayoutView",
            "grid_template_rows": null,
            "right": null,
            "justify_content": null,
            "_view_module": "@jupyter-widgets/base",
            "overflow": null,
            "_model_module_version": "1.2.0",
            "_view_count": null,
            "flex_flow": null,
            "width": null,
            "min_width": null,
            "border": null,
            "align_items": null,
            "bottom": null,
            "_model_module": "@jupyter-widgets/base",
            "top": null,
            "grid_column": null,
            "overflow_y": null,
            "overflow_x": null,
            "grid_auto_flow": null,
            "grid_area": null,
            "grid_template_columns": null,
            "flex": null,
            "_model_name": "LayoutModel",
            "justify_items": null,
            "grid_row": null,
            "max_height": null,
            "align_content": null,
            "visibility": null,
            "align_self": null,
            "height": null,
            "min_height": null,
            "padding": null,
            "grid_auto_rows": null,
            "grid_gap": null,
            "max_width": null,
            "order": null,
            "_view_module_version": "1.2.0",
            "grid_template_areas": null,
            "object_position": null,
            "object_fit": null,
            "grid_auto_columns": null,
            "margin": null,
            "display": null,
            "left": null
          }
        },
        "6011e1febd0647f3a89617040a859ac7": {
          "model_module": "@jupyter-widgets/controls",
          "model_name": "ProgressStyleModel",
          "model_module_version": "1.5.0",
          "state": {
            "_view_name": "StyleView",
            "_model_name": "ProgressStyleModel",
            "description_width": "",
            "_view_module": "@jupyter-widgets/base",
            "_model_module_version": "1.5.0",
            "_view_count": null,
            "_view_module_version": "1.2.0",
            "bar_color": null,
            "_model_module": "@jupyter-widgets/controls"
          }
        },
        "b7eef2376f48438ea9c8b0cfa8a38df6": {
          "model_module": "@jupyter-widgets/base",
          "model_name": "LayoutModel",
          "model_module_version": "1.2.0",
          "state": {
            "_view_name": "LayoutView",
            "grid_template_rows": null,
            "right": null,
            "justify_content": null,
            "_view_module": "@jupyter-widgets/base",
            "overflow": null,
            "_model_module_version": "1.2.0",
            "_view_count": null,
            "flex_flow": null,
            "width": null,
            "min_width": null,
            "border": null,
            "align_items": null,
            "bottom": null,
            "_model_module": "@jupyter-widgets/base",
            "top": null,
            "grid_column": null,
            "overflow_y": null,
            "overflow_x": null,
            "grid_auto_flow": null,
            "grid_area": null,
            "grid_template_columns": null,
            "flex": null,
            "_model_name": "LayoutModel",
            "justify_items": null,
            "grid_row": null,
            "max_height": null,
            "align_content": null,
            "visibility": null,
            "align_self": null,
            "height": null,
            "min_height": null,
            "padding": null,
            "grid_auto_rows": null,
            "grid_gap": null,
            "max_width": null,
            "order": null,
            "_view_module_version": "1.2.0",
            "grid_template_areas": null,
            "object_position": null,
            "object_fit": null,
            "grid_auto_columns": null,
            "margin": null,
            "display": null,
            "left": null
          }
        },
        "6940e758238e4a7f84ce1a07d0cfbf8c": {
          "model_module": "@jupyter-widgets/controls",
          "model_name": "DescriptionStyleModel",
          "model_module_version": "1.5.0",
          "state": {
            "_view_name": "StyleView",
            "_model_name": "DescriptionStyleModel",
            "description_width": "",
            "_view_module": "@jupyter-widgets/base",
            "_model_module_version": "1.5.0",
            "_view_count": null,
            "_view_module_version": "1.2.0",
            "_model_module": "@jupyter-widgets/controls"
          }
        },
        "bc1fe86d73ba4091a973690d604e1dc0": {
          "model_module": "@jupyter-widgets/base",
          "model_name": "LayoutModel",
          "model_module_version": "1.2.0",
          "state": {
            "_view_name": "LayoutView",
            "grid_template_rows": null,
            "right": null,
            "justify_content": null,
            "_view_module": "@jupyter-widgets/base",
            "overflow": null,
            "_model_module_version": "1.2.0",
            "_view_count": null,
            "flex_flow": null,
            "width": null,
            "min_width": null,
            "border": null,
            "align_items": null,
            "bottom": null,
            "_model_module": "@jupyter-widgets/base",
            "top": null,
            "grid_column": null,
            "overflow_y": null,
            "overflow_x": null,
            "grid_auto_flow": null,
            "grid_area": null,
            "grid_template_columns": null,
            "flex": null,
            "_model_name": "LayoutModel",
            "justify_items": null,
            "grid_row": null,
            "max_height": null,
            "align_content": null,
            "visibility": null,
            "align_self": null,
            "height": null,
            "min_height": null,
            "padding": null,
            "grid_auto_rows": null,
            "grid_gap": null,
            "max_width": null,
            "order": null,
            "_view_module_version": "1.2.0",
            "grid_template_areas": null,
            "object_position": null,
            "object_fit": null,
            "grid_auto_columns": null,
            "margin": null,
            "display": null,
            "left": null
          }
        },
        "969b5523abbd410eac5841dca728560a": {
          "model_module": "@jupyter-widgets/controls",
          "model_name": "HBoxModel",
          "model_module_version": "1.5.0",
          "state": {
            "_view_name": "HBoxView",
            "_dom_classes": [],
            "_model_name": "HBoxModel",
            "_view_module": "@jupyter-widgets/controls",
            "_model_module_version": "1.5.0",
            "_view_count": null,
            "_view_module_version": "1.5.0",
            "box_style": "",
            "layout": "IPY_MODEL_829315f84a284fc982f22cceca890a0c",
            "_model_module": "@jupyter-widgets/controls",
            "children": [
              "IPY_MODEL_bf54ee1e83d74858b4cc22042180ce80",
              "IPY_MODEL_394bc67d2333418eb99c8c7bb6bcbf73",
              "IPY_MODEL_c4f8d6cae8804efba6c048fe94b79e4e"
            ]
          }
        },
        "829315f84a284fc982f22cceca890a0c": {
          "model_module": "@jupyter-widgets/base",
          "model_name": "LayoutModel",
          "model_module_version": "1.2.0",
          "state": {
            "_view_name": "LayoutView",
            "grid_template_rows": null,
            "right": null,
            "justify_content": null,
            "_view_module": "@jupyter-widgets/base",
            "overflow": null,
            "_model_module_version": "1.2.0",
            "_view_count": null,
            "flex_flow": null,
            "width": null,
            "min_width": null,
            "border": null,
            "align_items": null,
            "bottom": null,
            "_model_module": "@jupyter-widgets/base",
            "top": null,
            "grid_column": null,
            "overflow_y": null,
            "overflow_x": null,
            "grid_auto_flow": null,
            "grid_area": null,
            "grid_template_columns": null,
            "flex": null,
            "_model_name": "LayoutModel",
            "justify_items": null,
            "grid_row": null,
            "max_height": null,
            "align_content": null,
            "visibility": null,
            "align_self": null,
            "height": null,
            "min_height": null,
            "padding": null,
            "grid_auto_rows": null,
            "grid_gap": null,
            "max_width": null,
            "order": null,
            "_view_module_version": "1.2.0",
            "grid_template_areas": null,
            "object_position": null,
            "object_fit": null,
            "grid_auto_columns": null,
            "margin": null,
            "display": null,
            "left": null
          }
        },
        "bf54ee1e83d74858b4cc22042180ce80": {
          "model_module": "@jupyter-widgets/controls",
          "model_name": "HTMLModel",
          "model_module_version": "1.5.0",
          "state": {
            "_view_name": "HTMLView",
            "style": "IPY_MODEL_7dc6ec12e5dc4091b00474def07a30ff",
            "_dom_classes": [],
            "description": "",
            "_model_name": "HTMLModel",
            "placeholder": "​",
            "_view_module": "@jupyter-widgets/controls",
            "_model_module_version": "1.5.0",
            "value": "Downloading: 100%",
            "_view_count": null,
            "_view_module_version": "1.5.0",
            "description_tooltip": null,
            "_model_module": "@jupyter-widgets/controls",
            "layout": "IPY_MODEL_03c5bcbbbdfe4ff494e36c1f125d3487"
          }
        },
        "394bc67d2333418eb99c8c7bb6bcbf73": {
          "model_module": "@jupyter-widgets/controls",
          "model_name": "FloatProgressModel",
          "model_module_version": "1.5.0",
          "state": {
            "_view_name": "ProgressView",
            "style": "IPY_MODEL_655ac75de0e34718ab494b76ed64e01a",
            "_dom_classes": [],
            "description": "",
            "_model_name": "FloatProgressModel",
            "bar_style": "success",
            "max": 445132512,
            "_view_module": "@jupyter-widgets/controls",
            "_model_module_version": "1.5.0",
            "value": 445132512,
            "_view_count": null,
            "_view_module_version": "1.5.0",
            "orientation": "horizontal",
            "min": 0,
            "description_tooltip": null,
            "_model_module": "@jupyter-widgets/controls",
            "layout": "IPY_MODEL_df09a9b2e49347adb755bcddb372a071"
          }
        },
        "c4f8d6cae8804efba6c048fe94b79e4e": {
          "model_module": "@jupyter-widgets/controls",
          "model_name": "HTMLModel",
          "model_module_version": "1.5.0",
          "state": {
            "_view_name": "HTMLView",
            "style": "IPY_MODEL_b0576a0b737d418c9317f0f5375ba8b7",
            "_dom_classes": [],
            "description": "",
            "_model_name": "HTMLModel",
            "placeholder": "​",
            "_view_module": "@jupyter-widgets/controls",
            "_model_module_version": "1.5.0",
            "value": " 445M/445M [00:14&lt;00:00, 32.6MB/s]",
            "_view_count": null,
            "_view_module_version": "1.5.0",
            "description_tooltip": null,
            "_model_module": "@jupyter-widgets/controls",
            "layout": "IPY_MODEL_8931389c506f47e9a68e33f15fc5c2f2"
          }
        },
        "7dc6ec12e5dc4091b00474def07a30ff": {
          "model_module": "@jupyter-widgets/controls",
          "model_name": "DescriptionStyleModel",
          "model_module_version": "1.5.0",
          "state": {
            "_view_name": "StyleView",
            "_model_name": "DescriptionStyleModel",
            "description_width": "",
            "_view_module": "@jupyter-widgets/base",
            "_model_module_version": "1.5.0",
            "_view_count": null,
            "_view_module_version": "1.2.0",
            "_model_module": "@jupyter-widgets/controls"
          }
        },
        "03c5bcbbbdfe4ff494e36c1f125d3487": {
          "model_module": "@jupyter-widgets/base",
          "model_name": "LayoutModel",
          "model_module_version": "1.2.0",
          "state": {
            "_view_name": "LayoutView",
            "grid_template_rows": null,
            "right": null,
            "justify_content": null,
            "_view_module": "@jupyter-widgets/base",
            "overflow": null,
            "_model_module_version": "1.2.0",
            "_view_count": null,
            "flex_flow": null,
            "width": null,
            "min_width": null,
            "border": null,
            "align_items": null,
            "bottom": null,
            "_model_module": "@jupyter-widgets/base",
            "top": null,
            "grid_column": null,
            "overflow_y": null,
            "overflow_x": null,
            "grid_auto_flow": null,
            "grid_area": null,
            "grid_template_columns": null,
            "flex": null,
            "_model_name": "LayoutModel",
            "justify_items": null,
            "grid_row": null,
            "max_height": null,
            "align_content": null,
            "visibility": null,
            "align_self": null,
            "height": null,
            "min_height": null,
            "padding": null,
            "grid_auto_rows": null,
            "grid_gap": null,
            "max_width": null,
            "order": null,
            "_view_module_version": "1.2.0",
            "grid_template_areas": null,
            "object_position": null,
            "object_fit": null,
            "grid_auto_columns": null,
            "margin": null,
            "display": null,
            "left": null
          }
        },
        "655ac75de0e34718ab494b76ed64e01a": {
          "model_module": "@jupyter-widgets/controls",
          "model_name": "ProgressStyleModel",
          "model_module_version": "1.5.0",
          "state": {
            "_view_name": "StyleView",
            "_model_name": "ProgressStyleModel",
            "description_width": "",
            "_view_module": "@jupyter-widgets/base",
            "_model_module_version": "1.5.0",
            "_view_count": null,
            "_view_module_version": "1.2.0",
            "bar_color": null,
            "_model_module": "@jupyter-widgets/controls"
          }
        },
        "df09a9b2e49347adb755bcddb372a071": {
          "model_module": "@jupyter-widgets/base",
          "model_name": "LayoutModel",
          "model_module_version": "1.2.0",
          "state": {
            "_view_name": "LayoutView",
            "grid_template_rows": null,
            "right": null,
            "justify_content": null,
            "_view_module": "@jupyter-widgets/base",
            "overflow": null,
            "_model_module_version": "1.2.0",
            "_view_count": null,
            "flex_flow": null,
            "width": null,
            "min_width": null,
            "border": null,
            "align_items": null,
            "bottom": null,
            "_model_module": "@jupyter-widgets/base",
            "top": null,
            "grid_column": null,
            "overflow_y": null,
            "overflow_x": null,
            "grid_auto_flow": null,
            "grid_area": null,
            "grid_template_columns": null,
            "flex": null,
            "_model_name": "LayoutModel",
            "justify_items": null,
            "grid_row": null,
            "max_height": null,
            "align_content": null,
            "visibility": null,
            "align_self": null,
            "height": null,
            "min_height": null,
            "padding": null,
            "grid_auto_rows": null,
            "grid_gap": null,
            "max_width": null,
            "order": null,
            "_view_module_version": "1.2.0",
            "grid_template_areas": null,
            "object_position": null,
            "object_fit": null,
            "grid_auto_columns": null,
            "margin": null,
            "display": null,
            "left": null
          }
        },
        "b0576a0b737d418c9317f0f5375ba8b7": {
          "model_module": "@jupyter-widgets/controls",
          "model_name": "DescriptionStyleModel",
          "model_module_version": "1.5.0",
          "state": {
            "_view_name": "StyleView",
            "_model_name": "DescriptionStyleModel",
            "description_width": "",
            "_view_module": "@jupyter-widgets/base",
            "_model_module_version": "1.5.0",
            "_view_count": null,
            "_view_module_version": "1.2.0",
            "_model_module": "@jupyter-widgets/controls"
          }
        },
        "8931389c506f47e9a68e33f15fc5c2f2": {
          "model_module": "@jupyter-widgets/base",
          "model_name": "LayoutModel",
          "model_module_version": "1.2.0",
          "state": {
            "_view_name": "LayoutView",
            "grid_template_rows": null,
            "right": null,
            "justify_content": null,
            "_view_module": "@jupyter-widgets/base",
            "overflow": null,
            "_model_module_version": "1.2.0",
            "_view_count": null,
            "flex_flow": null,
            "width": null,
            "min_width": null,
            "border": null,
            "align_items": null,
            "bottom": null,
            "_model_module": "@jupyter-widgets/base",
            "top": null,
            "grid_column": null,
            "overflow_y": null,
            "overflow_x": null,
            "grid_auto_flow": null,
            "grid_area": null,
            "grid_template_columns": null,
            "flex": null,
            "_model_name": "LayoutModel",
            "justify_items": null,
            "grid_row": null,
            "max_height": null,
            "align_content": null,
            "visibility": null,
            "align_self": null,
            "height": null,
            "min_height": null,
            "padding": null,
            "grid_auto_rows": null,
            "grid_gap": null,
            "max_width": null,
            "order": null,
            "_view_module_version": "1.2.0",
            "grid_template_areas": null,
            "object_position": null,
            "object_fit": null,
            "grid_auto_columns": null,
            "margin": null,
            "display": null,
            "left": null
          }
        }
      }
    }
  },
  "cells": [
    {
      "cell_type": "markdown",
      "metadata": {
        "id": "view-in-github",
        "colab_type": "text"
      },
      "source": [
        "<a href=\"https://colab.research.google.com/github/loussaoui/projetNLP/blob/main/projet_Nlp_colab.ipynb\" target=\"_parent\"><img src=\"https://colab.research.google.com/assets/colab-badge.svg\" alt=\"Open In Colab\"/></a>"
      ]
    },
    {
      "cell_type": "markdown",
      "metadata": {
        "id": "VrlaWpJ7Bf4y"
      },
      "source": [
        "L’analyse de sentiments est l’une des applications qu’on rencontre couramment en NLP. En effet, pour beaucoup de business, il est important de connaître l’avis des clients/utilisateurs. Un outil qui permet de déterminer si un produit ou service est plutôt bien vu ou plutôt mal vu, de façon automatique en se basant sur du texte écrit en langage naturel, est forcément une bonne idée. Dans cet article, je vous propose d’implémenter un système d’analyse de sentiments en utilisant notre model puis utilisation le modèle “cousin” de BERT CamemBERT.\n",
        "\n"
      ]
    },
    {
      "cell_type": "markdown",
      "metadata": {
        "id": "3yg5jQS484ZH"
      },
      "source": [
        "### Creation model LTSM"
      ]
    },
    {
      "cell_type": "code",
      "metadata": {
        "id": "kIZ7BAb_879h"
      },
      "source": [
        "import torch\n",
        "import seaborn\n",
        "import pandas as pd\n",
        "from sklearn import metrics\n",
        "from torch.utils.data import TensorDataset, DataLoader, RandomSampler, SequentialSampler\n"
      ],
      "execution_count": 8,
      "outputs": []
    },
    {
      "cell_type": "code",
      "metadata": {
        "colab": {
          "base_uri": "https://localhost:8080/"
        },
        "id": "S9pPQ05fC8zk",
        "outputId": "e9980af5-42e5-4c03-dec5-2e4f243d4c18"
      },
      "source": [
        "from google.colab import drive\n",
        "drive.mount('/content/drive')"
      ],
      "execution_count": 9,
      "outputs": [
        {
          "output_type": "stream",
          "name": "stdout",
          "text": [
            "Mounted at /content/drive\n"
          ]
        }
      ]
    },
    {
      "cell_type": "code",
      "metadata": {
        "colab": {
          "base_uri": "https://localhost:8080/"
        },
        "id": "s7czuBjZ9ZzY",
        "outputId": "4ab0ae28-3e0e-4660-e2cb-ce2ca8bfc0c1"
      },
      "source": [
        "!unzip  /content/drive/MyDrive/archive.zip"
      ],
      "execution_count": 12,
      "outputs": [
        {
          "output_type": "stream",
          "name": "stdout",
          "text": [
            "Archive:  /content/drive/MyDrive/archive.zip\n",
            "  inflating: test.csv                \n",
            "  inflating: train.csv               \n",
            "  inflating: valid.csv               \n"
          ]
        }
      ]
    },
    {
      "cell_type": "markdown",
      "metadata": {
        "id": "z-c38CUZ985w"
      },
      "source": [
        "Le jeu de données est constitué de reviews de films ressemblant à ça :\n"
      ]
    },
    {
      "cell_type": "code",
      "metadata": {
        "colab": {
          "base_uri": "https://localhost:8080/",
          "height": 204
        },
        "id": "pLImwQOy9Pbg",
        "outputId": "c54cb900-b4a2-4bb6-c56c-699604719d30"
      },
      "source": [
        "dataset = pd.read_csv(\"/content/train.csv\")\n",
        "dataset.head(5)"
      ],
      "execution_count": 13,
      "outputs": [
        {
          "output_type": "execute_result",
          "data": {
            "text/html": [
              "<div>\n",
              "<style scoped>\n",
              "    .dataframe tbody tr th:only-of-type {\n",
              "        vertical-align: middle;\n",
              "    }\n",
              "\n",
              "    .dataframe tbody tr th {\n",
              "        vertical-align: top;\n",
              "    }\n",
              "\n",
              "    .dataframe thead th {\n",
              "        text-align: right;\n",
              "    }\n",
              "</style>\n",
              "<table border=\"1\" class=\"dataframe\">\n",
              "  <thead>\n",
              "    <tr style=\"text-align: right;\">\n",
              "      <th></th>\n",
              "      <th>Unnamed: 0</th>\n",
              "      <th>film-url</th>\n",
              "      <th>review</th>\n",
              "      <th>polarity</th>\n",
              "    </tr>\n",
              "  </thead>\n",
              "  <tbody>\n",
              "    <tr>\n",
              "      <th>0</th>\n",
              "      <td>0</td>\n",
              "      <td>http://www.allocine.fr/film/fichefilm-135259/c...</td>\n",
              "      <td>Si vous cherchez du cinéma abrutissant à tous ...</td>\n",
              "      <td>0</td>\n",
              "    </tr>\n",
              "    <tr>\n",
              "      <th>1</th>\n",
              "      <td>1</td>\n",
              "      <td>http://www.allocine.fr/film/fichefilm-172430/c...</td>\n",
              "      <td>Trash, re-trash et re-re-trash...! Une horreur...</td>\n",
              "      <td>0</td>\n",
              "    </tr>\n",
              "    <tr>\n",
              "      <th>2</th>\n",
              "      <td>2</td>\n",
              "      <td>http://www.allocine.fr/film/fichefilm-15105/cr...</td>\n",
              "      <td>Et si, dans les 5 premières minutes du film, l...</td>\n",
              "      <td>0</td>\n",
              "    </tr>\n",
              "    <tr>\n",
              "      <th>3</th>\n",
              "      <td>3</td>\n",
              "      <td>http://www.allocine.fr/film/fichefilm-188629/c...</td>\n",
              "      <td>Mon dieu ! Quelle métaphore filée ! Je suis ab...</td>\n",
              "      <td>0</td>\n",
              "    </tr>\n",
              "    <tr>\n",
              "      <th>4</th>\n",
              "      <td>4</td>\n",
              "      <td>http://www.allocine.fr/film/fichefilm-23514/cr...</td>\n",
              "      <td>Premier film de la saga Kozure Okami, \"Le Sabr...</td>\n",
              "      <td>1</td>\n",
              "    </tr>\n",
              "  </tbody>\n",
              "</table>\n",
              "</div>"
            ],
            "text/plain": [
              "   Unnamed: 0  ... polarity\n",
              "0           0  ...        0\n",
              "1           1  ...        0\n",
              "2           2  ...        0\n",
              "3           3  ...        0\n",
              "4           4  ...        1\n",
              "\n",
              "[5 rows x 4 columns]"
            ]
          },
          "metadata": {},
          "execution_count": 13
        }
      ]
    },
    {
      "cell_type": "code",
      "metadata": {
        "id": "fY7g14T89Y3Z"
      },
      "source": [
        "reviews = dataset['review'].values.tolist()\n",
        "sentiments = dataset['polarity'].values.tolist()"
      ],
      "execution_count": 14,
      "outputs": []
    },
    {
      "cell_type": "markdown",
      "metadata": {
        "id": "GUKstk-x-CTY"
      },
      "source": [
        "Pour pouvoir passer nos données au modèle, il va falloir qu’elles soient encodées. Encoder, c’est donner une représentation numérique (en vrai vectorielle) au texte exactement comme le fait un embedding classique. La bibliothèque keras , tokenize() fournit un analyseur lexical  L'analyseur de ce module renvoie également des jetons en donne les commantaires a ce analyseur et par la methode texts_to_sequences() en Transforme chaque commantaire a une séquence d'entiers.\n"
      ]
    },
    {
      "cell_type": "code",
      "metadata": {
        "id": "NH3wVDwY-T1Z"
      },
      "source": [
        "import matplotlib.pyplot as plt\n",
        "import seaborn as sns\n",
        "from nltk.corpus import stopwords\n",
        "from keras.preprocessing.text import Tokenizer\n",
        "from keras.preprocessing.sequence import pad_sequences\n",
        "from keras.models import Sequential\n",
        "from keras.layers import Dense, Embedding, LSTM, SpatialDropout1D\n",
        "from keras.utils.np_utils import to_categorical\n",
        "from sklearn.preprocessing import OneHotEncoder\n",
        "\n",
        "max_fatures = 512\n",
        "tokenizer = Tokenizer(num_words=max_fatures, split=' ')\n",
        "tokenizer.fit_on_texts(reviews)\n",
        "X = tokenizer.texts_to_sequences(reviews)\n",
        "X = pad_sequences(X)\n",
        "\n",
        "sentiments = torch.tensor(sentiments)\n",
        "\n",
        "sentiments\n",
        "y = pd.get_dummies(sentiments)"
      ],
      "execution_count": 15,
      "outputs": []
    },
    {
      "cell_type": "code",
      "metadata": {
        "colab": {
          "base_uri": "https://localhost:8080/"
        },
        "id": "DajnUIoGABIg",
        "outputId": "ad37e153-8ebb-42fb-8055-01ee47c39460"
      },
      "source": [
        "print(reviews[0])\n",
        "print(X[0])\n",
        "print(y[0][0])"
      ],
      "execution_count": 16,
      "outputs": [
        {
          "output_type": "stream",
          "name": "stdout",
          "text": [
            "Si vous cherchez du cinéma abrutissant à tous les étages,n'ayant aucune peur du cliché en castagnettes et moralement douteux,\"From Paris with love\" est fait pour vous.Toutes les productions Besson,via sa filière EuropaCorp ont de quoi faire naître la moquerie.Paris y est encore une fois montrée comme une capitale exotique,mais attention si l'on se dirige vers la banlieue,on y trouve tout plein d'intégristes musulmans prêts à faire sauter le caisson d'une ambassadrice américaine.Nauséeux.Alors on se dit qu'on va au moins pouvoir apprécier la déconnade d'un classique buddy-movie avec le jeune agent aux dents longues obligé de faire équipe avec un vieux lou complètement timbré.Mais d'un côté,on a un Jonathan Rhys-meyers fayot au possible,et de l'autre un John Travolta en total délire narcissico-badass,crâne rasé et bouc proéminent à l'appui.Sinon,il n'y a aucun scénario.Seulement,des poursuites débiles sur l'autoroute,Travolta qui étale 10 mecs à l'arme blanche en 8 mouvements(!!)ou laisse son associé se faire démolir la tronche pendant qu'il scrute à la jumelle.Ca pourrait être un plaisir coupable,tellement c'est \"hénaurme\",c'est juste de la daube dans la droite lignée d'un \"Transporteur\",\"Taken\"ou \"Banlieue 13\".\n",
            "[  0   0   0   0   0   0   0   0   0   0   0   0   0   0   0   0   0   0\n",
            "   0   0   0   0   0   0   0   0   0   0   0   0   0   0   0   0   0   0\n",
            "   0   0   0   0   0   0   0   0   0   0   0   0   0   0   0   0   0   0\n",
            "   0   0   0   0   0   0   0   0   0   0   0   0   0   0   0   0   0   0\n",
            "   0   0   0   0   0   0   0   0   0   0   0   0   0   0   0   0   0   0\n",
            "   0   0   0   0   0   0   0   0   0   0   0   0   0   0   0   0   0   0\n",
            "   0   0   0   0   0   0   0   0   0   0   0   0   0   0   0   0   0   0\n",
            "   0   0   0   0   0   0   0   0   0   0   0   0   0   0   0   0   0   0\n",
            "   0   0   0   0   0   0   0   0   0   0   0   0   0   0   0   0   0   0\n",
            "   0   0   0   0   0   0   0   0   0   0   0   0   0   0   0   0  44  67\n",
            "  16  76   6  79   8 248 438  16  11   2   9  39  19  67 253   8  45 133\n",
            "   1 193  57   4  58   9  80  12  81  41  12  20  44 136  29 420   4  22\n",
            "  58 225  32 304   6  57   3  59 114  22  29 240 135 120  27  97   4  53\n",
            " 290  26   3 163  68   1  57  26   5 305  20  53 197  22  21   5  27 431\n",
            "   2   1 502   5 370  11   2   6 471  24 203  21 172  52 384  13  36  10\n",
            "   6  11  47 234  35  29  57   4 281  69   6   4 421 462  64   5 238 192\n",
            "  30  30 134   1   4  18   4  53  47]\n",
            "1\n"
          ]
        }
      ]
    },
    {
      "cell_type": "markdown",
      "metadata": {
        "id": "sAApapXHAYIB"
      },
      "source": [
        "l'etape suivant est divisé le jeu de données en deux sous-ensembles : pour les données d'entraînement et pour les données de test. Avec train_test_split() , vous n'avez pas besoin de diviser l'ensemble de données manuellement. Par défaut, la fonction train_test_split de Sklearn effectue des partitions aléatoires pour les deux sous-ensembles.\n",
        "\n",
        "70% pour train et 30% pour test\n"
      ]
    },
    {
      "cell_type": "code",
      "metadata": {
        "id": "-X0ysTMvAMNY"
      },
      "source": [
        "from sklearn.model_selection import train_test_split\n",
        "\n",
        "split_test_size = 0.30\n",
        "X_train, X_test, y_train, y_test = train_test_split(X,y, test_size=split_test_size, random_state=42) \n",
        "                            # test_size = 0.3 is 30%, 42 is the answer to everything"
      ],
      "execution_count": 17,
      "outputs": []
    },
    {
      "cell_type": "markdown",
      "metadata": {
        "id": "l9H0a02yAs_J"
      },
      "source": [
        "LSTM :"
      ]
    },
    {
      "cell_type": "markdown",
      "metadata": {
        "id": "lr-XnhOQBJC5"
      },
      "source": [
        "En passe a la derniere etape qui consiste a cration le model d'analyse sentiment on uilise le model LSTM pour notre projet , LTSM est un réseau Long short-term memory (LSTM), en français réseau récurrent à mémoire court et long terme ou plus explicitement réseau de neurones récurrents à mémoire court-terme et long terme,\n",
        "\n",
        "premièrement en instance le model on a deux sortie soit postive ou negative et adam comme optimazers :"
      ]
    },
    {
      "cell_type": "code",
      "metadata": {
        "colab": {
          "base_uri": "https://localhost:8080/"
        },
        "id": "oNCWddPRACqf",
        "outputId": "ac9608c7-f57e-409b-953e-1c9a6a46b66f"
      },
      "source": [
        "embed_dim = 128\n",
        "lstm_out = 196\n",
        "\n",
        "model = Sequential()\n",
        "model.add(Embedding(max_fatures, embed_dim,input_length = X_train.shape[1]))\n",
        "model.add(SpatialDropout1D(0.4))\n",
        "model.add(LSTM(lstm_out, dropout=0.2, recurrent_dropout=0.2))\n",
        "model.add(Dense(2,activation='softmax'))\n",
        "model.compile(optimizer = 'adam',loss = 'binary_crossentropy', metrics=['accuracy'])\n",
        "print(model.summary())"
      ],
      "execution_count": 18,
      "outputs": [
        {
          "output_type": "stream",
          "name": "stdout",
          "text": [
            "WARNING:tensorflow:Layer lstm will not use cuDNN kernels since it doesn't meet the criteria. It will use a generic GPU kernel as fallback when running on GPU.\n",
            "Model: \"sequential\"\n",
            "_________________________________________________________________\n",
            "Layer (type)                 Output Shape              Param #   \n",
            "=================================================================\n",
            "embedding (Embedding)        (None, 297, 128)          65536     \n",
            "_________________________________________________________________\n",
            "spatial_dropout1d (SpatialDr (None, 297, 128)          0         \n",
            "_________________________________________________________________\n",
            "lstm (LSTM)                  (None, 196)               254800    \n",
            "_________________________________________________________________\n",
            "dense (Dense)                (None, 2)                 394       \n",
            "=================================================================\n",
            "Total params: 320,730\n",
            "Trainable params: 320,730\n",
            "Non-trainable params: 0\n",
            "_________________________________________________________________\n",
            "None\n"
          ]
        }
      ]
    },
    {
      "cell_type": "markdown",
      "metadata": {
        "id": "PMygu8NFCVUS"
      },
      "source": [
        "puis en entraine le model par donnant le nombre d'epechqe 20 qui le nombre de fois pour entraine et batch size eqal 1000"
      ]
    },
    {
      "cell_type": "code",
      "metadata": {
        "colab": {
          "base_uri": "https://localhost:8080/"
        },
        "id": "o9API4n1AxmD",
        "outputId": "0760a4f4-3672-491b-f206-d033b0a5a801"
      },
      "source": [
        "model.fit(X_train,y_train, epochs = 5, batch_size=1000)\n"
      ],
      "execution_count": 19,
      "outputs": [
        {
          "output_type": "stream",
          "name": "stdout",
          "text": [
            "Epoch 1/5\n",
            "112/112 [==============================] - 156s 1s/step - loss: 0.4665 - accuracy: 0.7707\n",
            "Epoch 2/5\n",
            "112/112 [==============================] - 153s 1s/step - loss: 0.3464 - accuracy: 0.8485\n",
            "Epoch 3/5\n",
            "112/112 [==============================] - 153s 1s/step - loss: 0.3364 - accuracy: 0.8533\n",
            "Epoch 4/5\n",
            "112/112 [==============================] - 153s 1s/step - loss: 0.3257 - accuracy: 0.8572\n",
            "Epoch 5/5\n",
            "112/112 [==============================] - 153s 1s/step - loss: 0.3116 - accuracy: 0.8642\n"
          ]
        },
        {
          "output_type": "execute_result",
          "data": {
            "text/plain": [
              "<keras.callbacks.History at 0x7f369cf84950>"
            ]
          },
          "metadata": {},
          "execution_count": 19
        }
      ]
    },
    {
      "cell_type": "markdown",
      "metadata": {
        "id": "Wdpoboh0CnSS"
      },
      "source": [
        "En a la precision final equal 0.8642 En comparant cette resultas avec les tranformers en trouve que CamemBERT a une precision eqal = 94.10 dont plus grand donc on focalusé dans la deuxieme section a utiliser les tranfomres pre entriné pour creer un application web qui est cabale de detecter si un commantaire est positive ou negative "
      ]
    },
    {
      "cell_type": "markdown",
      "metadata": {
        "id": "Vmtbg_BW8zI0"
      },
      "source": [
        "### Utiliser un tranformers"
      ]
    },
    {
      "cell_type": "markdown",
      "metadata": {
        "id": "gnOV3Se99r8z"
      },
      "source": [
        "CamemBERT est une “version” de RoBERTa pré-entraînée sur un jeu de données francophone. RoBERTa lui-même est une version de BERT pour laquelle, certains hyperparamètres du pré-entraînement ont été modifiés et l’objectif de prédiction de phrase suivante (Next-Sentence Prediction) a été supprimé. CamemBERT hérite donc des avantages de BERT.\n",
        "\n",
        "Pour l’implémentation de notre modèle d’analyse de sentiments, nous utiliserons la bibliothèque Transformers de HuggingFace ansi que PyTorch."
      ]
    },
    {
      "cell_type": "code",
      "metadata": {
        "colab": {
          "base_uri": "https://localhost:8080/"
        },
        "id": "PalN8fncHP3H",
        "outputId": "57eb54c0-3309-4638-b82b-537815ba9a08"
      },
      "source": [
        "!pip install flask-ngrok\n",
        "!pip install flask==0.12.2  \n",
        "!pip install transformers>=4.0\n",
        "!pip install sentencepiece"
      ],
      "execution_count": 1,
      "outputs": [
        {
          "output_type": "stream",
          "name": "stdout",
          "text": [
            "Collecting flask-ngrok\n",
            "  Downloading flask_ngrok-0.0.25-py3-none-any.whl (3.1 kB)\n",
            "Requirement already satisfied: requests in /usr/local/lib/python3.7/dist-packages (from flask-ngrok) (2.23.0)\n",
            "Requirement already satisfied: Flask>=0.8 in /usr/local/lib/python3.7/dist-packages (from flask-ngrok) (1.1.4)\n",
            "Requirement already satisfied: Jinja2<3.0,>=2.10.1 in /usr/local/lib/python3.7/dist-packages (from Flask>=0.8->flask-ngrok) (2.11.3)\n",
            "Requirement already satisfied: Werkzeug<2.0,>=0.15 in /usr/local/lib/python3.7/dist-packages (from Flask>=0.8->flask-ngrok) (1.0.1)\n",
            "Requirement already satisfied: click<8.0,>=5.1 in /usr/local/lib/python3.7/dist-packages (from Flask>=0.8->flask-ngrok) (7.1.2)\n",
            "Requirement already satisfied: itsdangerous<2.0,>=0.24 in /usr/local/lib/python3.7/dist-packages (from Flask>=0.8->flask-ngrok) (1.1.0)\n",
            "Requirement already satisfied: MarkupSafe>=0.23 in /usr/local/lib/python3.7/dist-packages (from Jinja2<3.0,>=2.10.1->Flask>=0.8->flask-ngrok) (2.0.1)\n",
            "Requirement already satisfied: urllib3!=1.25.0,!=1.25.1,<1.26,>=1.21.1 in /usr/local/lib/python3.7/dist-packages (from requests->flask-ngrok) (1.24.3)\n",
            "Requirement already satisfied: certifi>=2017.4.17 in /usr/local/lib/python3.7/dist-packages (from requests->flask-ngrok) (2021.5.30)\n",
            "Requirement already satisfied: idna<3,>=2.5 in /usr/local/lib/python3.7/dist-packages (from requests->flask-ngrok) (2.10)\n",
            "Requirement already satisfied: chardet<4,>=3.0.2 in /usr/local/lib/python3.7/dist-packages (from requests->flask-ngrok) (3.0.4)\n",
            "Installing collected packages: flask-ngrok\n",
            "Successfully installed flask-ngrok-0.0.25\n",
            "Collecting flask==0.12.2\n",
            "  Downloading Flask-0.12.2-py2.py3-none-any.whl (83 kB)\n",
            "\u001b[K     |████████████████████████████████| 83 kB 1.1 MB/s \n",
            "\u001b[?25hRequirement already satisfied: Werkzeug>=0.7 in /usr/local/lib/python3.7/dist-packages (from flask==0.12.2) (1.0.1)\n",
            "Requirement already satisfied: Jinja2>=2.4 in /usr/local/lib/python3.7/dist-packages (from flask==0.12.2) (2.11.3)\n",
            "Requirement already satisfied: click>=2.0 in /usr/local/lib/python3.7/dist-packages (from flask==0.12.2) (7.1.2)\n",
            "Requirement already satisfied: itsdangerous>=0.21 in /usr/local/lib/python3.7/dist-packages (from flask==0.12.2) (1.1.0)\n",
            "Requirement already satisfied: MarkupSafe>=0.23 in /usr/local/lib/python3.7/dist-packages (from Jinja2>=2.4->flask==0.12.2) (2.0.1)\n",
            "Installing collected packages: flask\n",
            "  Attempting uninstall: flask\n",
            "    Found existing installation: Flask 1.1.4\n",
            "    Uninstalling Flask-1.1.4:\n",
            "      Successfully uninstalled Flask-1.1.4\n",
            "Successfully installed flask-0.12.2\n",
            "Collecting sentencepiece\n",
            "  Downloading sentencepiece-0.1.96-cp37-cp37m-manylinux_2_17_x86_64.manylinux2014_x86_64.whl (1.2 MB)\n",
            "\u001b[K     |████████████████████████████████| 1.2 MB 5.3 MB/s \n",
            "\u001b[?25hInstalling collected packages: sentencepiece\n",
            "Successfully installed sentencepiece-0.1.96\n"
          ]
        }
      ]
    },
    {
      "cell_type": "markdown",
      "metadata": {
        "id": "x19gqVOpHR93"
      },
      "source": [
        "on uziper le fhicher projet.rar qui contient lesp pages web et ses codes .css "
      ]
    },
    {
      "cell_type": "code",
      "metadata": {
        "id": "sLtDa6XjmjQD",
        "colab": {
          "base_uri": "https://localhost:8080/"
        },
        "outputId": "95b0d91e-cdff-4f75-d49f-dd0dac91e22f"
      },
      "source": [
        "!unrar x Projet_NLP.rar"
      ],
      "execution_count": 3,
      "outputs": [
        {
          "output_type": "stream",
          "name": "stdout",
          "text": [
            "\n",
            "UNRAR 5.50 freeware      Copyright (c) 1993-2017 Alexander Roshal\n",
            "\n",
            "\n",
            "Extracting from Projet_NLP.rar\n",
            "\n",
            "Creating    static                                                    OK\n",
            "Creating    static/assets                                             OK\n",
            "Creating    static/assets/css                                         OK\n",
            "Extracting  static/assets/css/fontawesome.css                            \b\b\b\b  0%\b\b\b\b\b  OK \n",
            "Extracting  static/assets/css/owl.css                                    \b\b\b\b  0%\b\b\b\b\b  OK \n",
            "Extracting  static/assets/css/templatemo-finance-business.css            \b\b\b\b  0%\b\b\b\b\b  OK \n",
            "Creating    static/assets/fonts                                       OK\n",
            "Extracting  static/assets/fonts/Flaticon.woff                            \b\b\b\b  0%\b\b\b\b\b  OK \n",
            "Extracting  static/assets/fonts/flexslider-icon.eot                      \b\b\b\b  0%\b\b\b\b\b  OK \n",
            "Extracting  static/assets/fonts/flexslider-icon.svg                      \b\b\b\b  1%\b\b\b\b\b  OK \n",
            "Extracting  static/assets/fonts/flexslider-icon.ttf                      \b\b\b\b  1%\b\b\b\b\b  OK \n",
            "Extracting  static/assets/fonts/flexslider-icon.woff                     \b\b\b\b  1%\b\b\b\b\b  OK \n",
            "Extracting  static/assets/fonts/fontawesome-webfont.eot                  \b\b\b\b  3%\b\b\b\b\b  OK \n",
            "Extracting  static/assets/fonts/fontawesome-webfont.svg                  \b\b\b\b  7%\b\b\b\b\b  OK \n",
            "Extracting  static/assets/fonts/fontawesome-webfont.ttf                  \b\b\b\b 10%\b\b\b\b\b  OK \n",
            "Extracting  static/assets/fonts/fontawesome-webfont.woff                 \b\b\b\b 13%\b\b\b\b\b  OK \n",
            "Extracting  static/assets/fonts/fontawesome-webfont.woff2                \b\b\b\b 16%\b\b\b\b\b  OK \n",
            "Extracting  static/assets/fonts/FontAwesome.otf                          \b\b\b\b 19%\b\b\b\b\b  OK \n",
            "Extracting  static/assets/fonts/slick.eot                                \b\b\b\b 19%\b\b\b\b\b  OK \n",
            "Extracting  static/assets/fonts/slick.svg                                \b\b\b\b 19%\b\b\b\b\b  OK \n",
            "Extracting  static/assets/fonts/slick.ttf                                \b\b\b\b 19%\b\b\b\b\b  OK \n",
            "Extracting  static/assets/fonts/slick.woff                               \b\b\b\b 19%\b\b\b\b\b  OK \n",
            "Creating    static/assets/images                                      OK\n",
            "Extracting  static/assets/images/1.jpg                                   \b\b\b\b 21%\b\b\b\b\b  OK \n",
            "Extracting  static/assets/images/about-image.jpg                         \b\b\b\b 22%\b\b\b\b\b  OK \n",
            "Extracting  static/assets/images/client-01.png                           \b\b\b\b 22%\b\b\b\b\b  OK \n",
            "Extracting  static/assets/images/fun-facts-bg.jpg                        \b\b\b\b 23%\b\b\b\b\b  OK \n",
            "Extracting  static/assets/images/more-info.jpg                           \b\b\b\b 27%\b\b\b\b\b  OK \n",
            "Extracting  static/assets/images/page-heading-bg.jpg                     \b\b\b\b 28%\b\b\b\b\b  OK \n",
            "Extracting  static/assets/images/service_01.jpg                          \b\b\b\b 29%\b\b\b\b\b  OK \n",
            "Extracting  static/assets/images/service_02.jpg                          \b\b\b\b 30%\b\b\b\b\b  OK \n",
            "Extracting  static/assets/images/service_03.jpg                          \b\b\b\b 31%\b\b\b\b\b  OK \n",
            "Extracting  static/assets/images/single_service_01.jpg                   \b\b\b\b 34%\b\b\b\b\b  OK \n",
            "Extracting  static/assets/images/single_service_02.jpg                   \b\b\b\b 36%\b\b\b\b\b  OK \n",
            "Extracting  static/assets/images/single_service_03.jpg                   \b\b\b\b 39%\b\b\b\b\b  OK \n",
            "Extracting  static/assets/images/slide_01.jpg                            \b\b\b\b 43%\b\b\b\b\b  OK \n",
            "Extracting  static/assets/images/slide_02.jpg                            \b\b\b\b 51%\b\b\b\b\b  OK \n",
            "Extracting  static/assets/images/slide_03.jpg                            \b\b\b\b 55%\b\b\b\b\b  OK \n",
            "Extracting  static/assets/images/slide_04.jpg                            \b\b\b\b 57%\b\b\b\b\b  OK \n",
            "Extracting  static/assets/images/team_01.jpg                             \b\b\b\b 57%\b\b\b\b\b  OK \n",
            "Extracting  static/assets/images/team_02.jpg                             \b\b\b\b 58%\b\b\b\b\b  OK \n",
            "Extracting  static/assets/images/team_03.jpg                             \b\b\b\b 59%\b\b\b\b\b  OK \n",
            "Creating    static/assets/js                                          OK\n",
            "Extracting  static/assets/js/accordions.js                               \b\b\b\b 63%\b\b\b\b\b  OK \n",
            "Extracting  static/assets/js/custom.js                                   \b\b\b\b 63%\b\b\b\b\b  OK \n",
            "Extracting  static/assets/js/jquery.singlePageNav.min.js                 \b\b\b\b 63%\b\b\b\b\b  OK \n",
            "Extracting  static/assets/js/owl.js                                      \b\b\b\b 64%\b\b\b\b\b  OK \n",
            "Extracting  static/assets/js/slick.js                                    \b\b\b\b 65%\b\b\b\b\b  OK \n",
            "Creating    static/vendor                                             OK\n",
            "Creating    static/vendor/bootstrap                                   OK\n",
            "Creating    static/vendor/bootstrap/css                               OK\n",
            "Extracting  static/vendor/bootstrap/css/bootstrap.css                    \b\b\b\b 66%\b\b\b\b\b  OK \n",
            "Extracting  static/vendor/bootstrap/css/bootstrap.css.map                \b\b\b\b 69%\b\b\b\b\b  OK \n",
            "Extracting  static/vendor/bootstrap/css/bootstrap.min.css                \b\b\b\b 69%\b\b\b\b\b  OK \n",
            "Extracting  static/vendor/bootstrap/css/bootstrap.min.css.map            \b\b\b\b 72%\b\b\b\b\b  OK \n",
            "Creating    static/vendor/bootstrap/js                                OK\n",
            "Extracting  static/vendor/bootstrap/js/bootstrap.bundle.js               \b\b\b\b 74%\b\b\b\b\b  OK \n",
            "Extracting  static/vendor/bootstrap/js/bootstrap.bundle.js.map           \b\b\b\b 77%\b\b\b\b\b  OK \n",
            "Extracting  static/vendor/bootstrap/js/bootstrap.bundle.min.js           \b\b\b\b 78%\b\b\b\b\b  OK \n",
            "Extracting  static/vendor/bootstrap/js/bootstrap.bundle.min.js.map       \b\b\b\b 81%\b\b\b\b\b  OK \n",
            "Extracting  static/vendor/bootstrap/js/bootstrap.js                      \b\b\b\b 82%\b\b\b\b\b  OK \n",
            "Extracting  static/vendor/bootstrap/js/bootstrap.js.map                  \b\b\b\b 84%\b\b\b\b\b  OK \n",
            "Extracting  static/vendor/bootstrap/js/bootstrap.min.js                  \b\b\b\b 85%\b\b\b\b\b  OK \n",
            "Extracting  static/vendor/bootstrap/js/bootstrap.min.js.map              \b\b\b\b 87%\b\b\b\b\b  OK \n",
            "Creating    static/vendor/jquery                                      OK\n",
            "Extracting  static/vendor/jquery/jquery.js                               \b\b\b\b 90%\b\b\b\b\b  OK \n",
            "Extracting  static/vendor/jquery/jquery.min.js                           \b\b\b\b 91%\b\b\b\b\b  OK \n",
            "Extracting  static/vendor/jquery/jquery.min.map                          \b\b\b\b 94%\b\b\b\b\b  OK \n",
            "Extracting  static/vendor/jquery/jquery.slim.js                          \b\b\b\b 96%\b\b\b\b\b  OK \n",
            "Extracting  static/vendor/jquery/jquery.slim.min.js                      \b\b\b\b 97%\b\b\b\b\b  OK \n",
            "Extracting  static/vendor/jquery/jquery.slim.min.map                     \b\b\b\b 99%\b\b\b\b\b  OK \n",
            "Extracting  static/w3.css                                                \b\b\b\b 99%\b\b\b\b\b  OK \n",
            "Creating    templates                                                 OK\n",
            "Extracting  templates/index.html                                         \b\b\b\b 99%\b\b\b\b\b  OK \n",
            "Extracting  templates/test.html                                          \b\b\b\b 99%\b\b\b\b\b  OK \n",
            "Extracting  4.0                                                          \b\b\b\b 99%\b\b\b\b\b  OK \n",
            "Extracting  nlp.py                                                       \b\b\b\b 99%\b\b\b\b\b  OK \n",
            "All OK\n"
          ]
        }
      ]
    },
    {
      "cell_type": "markdown",
      "metadata": {
        "id": "iAHWjADiLhGA"
      },
      "source": [
        ""
      ]
    },
    {
      "cell_type": "code",
      "metadata": {
        "id": "OnAsAu2spA1S",
        "colab": {
          "base_uri": "https://localhost:8080/",
          "height": 265,
          "referenced_widgets": [
            "f47f14218ba14ede9bd547eebf905d3b",
            "10dd65cfcac34e93ada593affa86cd51",
            "17b6e4e88ced44da9597540427fd1d7b",
            "2462d79223fc4df6820391fc24db88e8",
            "d873f84d3ef347cea2e1dcfce6b3fbc2",
            "157fd2e7005a4312bd24e5561911fd65",
            "99480b1865f6412c9e599be35f5016af",
            "7c402b24d9c14d57a2e26fce66551d95",
            "b87497b371254a5d8a3793bbcb865391",
            "fbf55cb5af1f4fd0a3b526c2903d5372",
            "3cc38ce0a1dd4db096d703d60091a5da",
            "0959053c9b8444659cff460c1a9b2d40",
            "cb46814284994de1b37bfcb7fd2d665e",
            "1df4cbf9381648729c34565012f172d2",
            "f0d754b4e6b84decbc4abb7d4178c957",
            "440baedc881b4c0896b0031be2d4cb05",
            "0a97461f844f40b5bc208cfd5998d228",
            "617d8527715e45dab1c119fd0696a7c9",
            "ef47ff464527480680f7c380917ae206",
            "e08635efef7c41759f91ae88e5310041",
            "629a1a58ca83422d96641e74f1cf117f",
            "87f53d9d9e854355b1c78e40dc777748",
            "a077791accc3495e8976c2ef128d7858",
            "ccd38d9963ce4173aacf325d7eff72a6",
            "39864f0e832846c8a8cd55b42e57d249",
            "d24c2ae2cdec4ad0840059b3f26b3362",
            "e0decb22c38747579fa5244eff293735",
            "fc9602b2bc0248debaa93852e91a1bf0",
            "e52b71ba63b0469e91ea44aaac739a59",
            "56985ea15c7a450aa301874ed88c2fdc",
            "32b62b152f38407683d8fa40268069b8",
            "27e5d8db107d4a5093e19d7227b71c3f",
            "81a7f688f27240de98a8913df4b75f33",
            "1f1ac071eacf457eaf65c2a7fe9edd16",
            "1dd36544d3394e8999a79398fa264868",
            "541c652a3ec3491fac30a8b83d465249",
            "fa98c4f054b54c7c95ecfb2de4d6f601",
            "c26ce5f181964c6a93322a758e8015e1",
            "c2813feb02464fdba8b6bf7f3abea3d1",
            "3a3ca209304842f19d5c2feb8889cb9e",
            "6011e1febd0647f3a89617040a859ac7",
            "b7eef2376f48438ea9c8b0cfa8a38df6",
            "6940e758238e4a7f84ce1a07d0cfbf8c",
            "bc1fe86d73ba4091a973690d604e1dc0",
            "969b5523abbd410eac5841dca728560a",
            "829315f84a284fc982f22cceca890a0c",
            "bf54ee1e83d74858b4cc22042180ce80",
            "394bc67d2333418eb99c8c7bb6bcbf73",
            "c4f8d6cae8804efba6c048fe94b79e4e",
            "7dc6ec12e5dc4091b00474def07a30ff",
            "03c5bcbbbdfe4ff494e36c1f125d3487",
            "655ac75de0e34718ab494b76ed64e01a",
            "df09a9b2e49347adb755bcddb372a071",
            "b0576a0b737d418c9317f0f5375ba8b7",
            "8931389c506f47e9a68e33f15fc5c2f2"
          ]
        },
        "outputId": "b8479243-db73-45c5-e3cf-34c590d6aabf"
      },
      "source": [
        "from transformers import AutoTokenizer, TFAutoModelForSequenceClassification\n",
        "from transformers import pipeline\n",
        "\n",
        "\n",
        "tokenizer = AutoTokenizer.from_pretrained(\"tblard/tf-allocine\")\n",
        "model = TFAutoModelForSequenceClassification.from_pretrained(\"tblard/tf-allocine\")\n",
        "\n",
        "nlp = pipeline('sentiment-analysis', model=model, tokenizer=tokenizer)"
      ],
      "execution_count": 4,
      "outputs": [
        {
          "output_type": "display_data",
          "data": {
            "application/vnd.jupyter.widget-view+json": {
              "model_id": "f47f14218ba14ede9bd547eebf905d3b",
              "version_minor": 0,
              "version_major": 2
            },
            "text/plain": [
              "Downloading:   0%|          | 0.00/2.00 [00:00<?, ?B/s]"
            ]
          },
          "metadata": {}
        },
        {
          "output_type": "display_data",
          "data": {
            "application/vnd.jupyter.widget-view+json": {
              "model_id": "0959053c9b8444659cff460c1a9b2d40",
              "version_minor": 0,
              "version_major": 2
            },
            "text/plain": [
              "Downloading:   0%|          | 0.00/666 [00:00<?, ?B/s]"
            ]
          },
          "metadata": {}
        },
        {
          "output_type": "display_data",
          "data": {
            "application/vnd.jupyter.widget-view+json": {
              "model_id": "a077791accc3495e8976c2ef128d7858",
              "version_minor": 0,
              "version_major": 2
            },
            "text/plain": [
              "Downloading:   0%|          | 0.00/811k [00:00<?, ?B/s]"
            ]
          },
          "metadata": {}
        },
        {
          "output_type": "display_data",
          "data": {
            "application/vnd.jupyter.widget-view+json": {
              "model_id": "1f1ac071eacf457eaf65c2a7fe9edd16",
              "version_minor": 0,
              "version_major": 2
            },
            "text/plain": [
              "Downloading:   0%|          | 0.00/210 [00:00<?, ?B/s]"
            ]
          },
          "metadata": {}
        },
        {
          "output_type": "display_data",
          "data": {
            "application/vnd.jupyter.widget-view+json": {
              "model_id": "969b5523abbd410eac5841dca728560a",
              "version_minor": 0,
              "version_major": 2
            },
            "text/plain": [
              "Downloading:   0%|          | 0.00/445M [00:00<?, ?B/s]"
            ]
          },
          "metadata": {}
        },
        {
          "output_type": "stream",
          "name": "stderr",
          "text": [
            "All model checkpoint layers were used when initializing TFCamembertForSequenceClassification.\n",
            "\n",
            "All the layers of TFCamembertForSequenceClassification were initialized from the model checkpoint at tblard/tf-allocine.\n",
            "If your task is similar to the task the model of the checkpoint was trained on, you can already use TFCamembertForSequenceClassification for predictions without further training.\n"
          ]
        }
      ]
    },
    {
      "cell_type": "markdown",
      "metadata": {
        "id": "yQCInYgVGg0X"
      },
      "source": [
        "Pour web application et pour aller vite, Flask est un framework de développement web en Python. Il en existe d’autres, le plus connu d’entre eux est Django mais avec Flask, on peut déjà rapidement obtenir des résultats, sans trop se perdre en Ce code commence par importer le module Flask "
      ]
    },
    {
      "cell_type": "code",
      "metadata": {
        "id": "QSjQJg1sGhzA"
      },
      "source": [
        "from flask import Flask, request, render_template\n",
        "from flask_ngrok import run_with_ngrok"
      ],
      "execution_count": 5,
      "outputs": []
    },
    {
      "cell_type": "markdown",
      "metadata": {
        "id": "oXkoR4uFGnKx"
      },
      "source": [
        "On donne ensuite un nom à l’application ici ce sera app "
      ]
    },
    {
      "cell_type": "code",
      "metadata": {
        "id": "rkE2Ou55Gpl3"
      },
      "source": [
        "app = Flask(__name__)\n",
        "run_with_ngrok(app)  # Start ngrok when app is run"
      ],
      "execution_count": 6,
      "outputs": []
    },
    {
      "cell_type": "markdown",
      "metadata": {
        "id": "s9tOmML5FgjA"
      },
      "source": [
        "Ensuite vient la partie cruciale : définir une page (ou route) avec flask @app.route permet de préciser à quelle adresse ce qui suit va s’appliquer.\n",
        "Ici comme on est sur la page d’accueil, on met juste (“/”)\n",
        "\n",
        "\n",
        "\n",
        "\n",
        "\n",
        "\n"
      ]
    },
    {
      "cell_type": "markdown",
      "metadata": {
        "id": "gha-PzOrGwnA"
      },
      "source": [
        "Ensuite vient la page index.html qui va s’éxécuter sur la page “/”. \n"
      ]
    },
    {
      "cell_type": "code",
      "metadata": {
        "id": "H39hVXhiPtBo",
        "colab": {
          "base_uri": "https://localhost:8080/"
        },
        "outputId": "8ef1945a-dee2-4d94-d05b-21de383d7724"
      },
      "source": [
        "@app.route('/')\n",
        "\n",
        "def my_form():\n",
        "    return render_template('index.html')\n",
        "\n",
        "    \n",
        "@app.route('/', methods=['POST'])\n",
        "def my_form_post():\n",
        "    text1 = request.form['message'].lower()\n",
        "\n",
        "    a = nlp(text1)\n",
        "    text = a[0]['label']\n",
        "    score = a[0]['score']\n",
        "    score = round(score,6)\n",
        "    if text =='NEGATIVE' :\n",
        "      coleur = 'red'\n",
        "    else :\n",
        "      coleur = 'green'\n",
        "        \n",
        "    return render_template('test.html',scor=score,final=text,coleur=coleur) \n",
        "\n",
        "if __name__ == \"__main__\":\n",
        "    app.run()\n"
      ],
      "execution_count": 7,
      "outputs": [
        {
          "output_type": "stream",
          "name": "stderr",
          "text": [
            " * Running on http://127.0.0.1:5000/ (Press CTRL+C to quit)\n"
          ]
        },
        {
          "output_type": "stream",
          "name": "stdout",
          "text": [
            " * Running on http://9d17-34-67-255-79.ngrok.io\n",
            " * Traffic stats available on http://127.0.0.1:4040\n"
          ]
        },
        {
          "output_type": "stream",
          "name": "stderr",
          "text": [
            "127.0.0.1 - - [02/Sep/2021 13:36:52] \"\u001b[37mGET / HTTP/1.1\u001b[0m\" 200 -\n",
            "127.0.0.1 - - [02/Sep/2021 13:36:53] \"\u001b[37mGET /static/vendor/bootstrap/css/bootstrap.min.css HTTP/1.1\u001b[0m\" 200 -\n",
            "127.0.0.1 - - [02/Sep/2021 13:36:53] \"\u001b[37mGET /static/assets/css/fontawesome.css HTTP/1.1\u001b[0m\" 200 -\n",
            "127.0.0.1 - - [02/Sep/2021 13:36:53] \"\u001b[37mGET /static/assets/css/templatemo-finance-business.css HTTP/1.1\u001b[0m\" 200 -\n",
            "127.0.0.1 - - [02/Sep/2021 13:36:53] \"\u001b[37mGET /static/assets/css/owl.css HTTP/1.1\u001b[0m\" 200 -\n",
            "127.0.0.1 - - [02/Sep/2021 13:36:53] \"\u001b[37mGET /static/vendor/jquery/jquery.min.js HTTP/1.1\u001b[0m\" 200 -\n",
            "127.0.0.1 - - [02/Sep/2021 13:36:53] \"\u001b[37mGET /static/vendor/bootstrap/js/bootstrap.bundle.min.js HTTP/1.1\u001b[0m\" 200 -\n",
            "127.0.0.1 - - [02/Sep/2021 13:36:53] \"\u001b[37mGET / HTTP/1.1\u001b[0m\" 200 -\n",
            "127.0.0.1 - - [02/Sep/2021 13:36:54] \"\u001b[37mGET /static/assets/js/custom.js HTTP/1.1\u001b[0m\" 200 -\n",
            "127.0.0.1 - - [02/Sep/2021 13:36:54] \"\u001b[37mGET /static/assets/js/owl.js HTTP/1.1\u001b[0m\" 200 -\n",
            "127.0.0.1 - - [02/Sep/2021 13:36:54] \"\u001b[37mGET /static/assets/js/slick.js HTTP/1.1\u001b[0m\" 200 -\n",
            "127.0.0.1 - - [02/Sep/2021 13:36:54] \"\u001b[37mGET /static/assets/js/accordions.js HTTP/1.1\u001b[0m\" 200 -\n",
            "127.0.0.1 - - [02/Sep/2021 13:36:54] \"\u001b[37mGET /static/assets/images/slide_01.jpg HTTP/1.1\u001b[0m\" 200 -\n",
            "127.0.0.1 - - [02/Sep/2021 13:36:54] \"\u001b[37mGET /static/assets/images/slide_02.jpg HTTP/1.1\u001b[0m\" 200 -\n",
            "127.0.0.1 - - [02/Sep/2021 13:36:54] \"\u001b[37mGET /static/assets/fonts/fontawesome-webfont.woff2?v=4.3.0 HTTP/1.1\u001b[0m\" 200 -\n",
            "127.0.0.1 - - [02/Sep/2021 13:36:54] \"\u001b[37mGET /static/assets/css/fontawesome.css HTTP/1.1\u001b[0m\" 200 -\n",
            "127.0.0.1 - - [02/Sep/2021 13:36:54] \"\u001b[37mGET /static/assets/css/templatemo-finance-business.css HTTP/1.1\u001b[0m\" 200 -\n",
            "127.0.0.1 - - [02/Sep/2021 13:36:54] \"\u001b[37mGET /static/vendor/bootstrap/js/bootstrap.bundle.min.js HTTP/1.1\u001b[0m\" 200 -\n",
            "127.0.0.1 - - [02/Sep/2021 13:36:54] \"\u001b[37mGET /static/assets/images/slide_03.jpg HTTP/1.1\u001b[0m\" 200 -\n",
            "127.0.0.1 - - [02/Sep/2021 13:36:54] \"\u001b[37mGET /static/vendor/jquery/jquery.min.js HTTP/1.1\u001b[0m\" 200 -\n",
            "127.0.0.1 - - [02/Sep/2021 13:36:54] \"\u001b[37mGET /static/assets/images/slide_04.jpg HTTP/1.1\u001b[0m\" 200 -\n",
            "127.0.0.1 - - [02/Sep/2021 13:36:54] \"\u001b[37mGET /static/assets/css/owl.css HTTP/1.1\u001b[0m\" 200 -\n",
            "127.0.0.1 - - [02/Sep/2021 13:36:54] \"\u001b[37mGET /static/vendor/bootstrap/css/bootstrap.min.css HTTP/1.1\u001b[0m\" 200 -\n",
            "127.0.0.1 - - [02/Sep/2021 13:36:55] \"\u001b[33mGET /favicon.ico HTTP/1.1\u001b[0m\" 404 -\n",
            "127.0.0.1 - - [02/Sep/2021 13:36:55] \"\u001b[37mGET /static/assets/js/custom.js HTTP/1.1\u001b[0m\" 200 -\n",
            "127.0.0.1 - - [02/Sep/2021 13:36:55] \"\u001b[37mGET /static/assets/js/slick.js HTTP/1.1\u001b[0m\" 200 -\n",
            "127.0.0.1 - - [02/Sep/2021 13:36:55] \"\u001b[37mGET /static/assets/js/owl.js HTTP/1.1\u001b[0m\" 200 -\n",
            "127.0.0.1 - - [02/Sep/2021 13:36:55] \"\u001b[37mGET /static/assets/js/accordions.js HTTP/1.1\u001b[0m\" 200 -\n",
            "127.0.0.1 - - [02/Sep/2021 13:36:57] \"\u001b[37mGET /static/assets/images/slide_02.jpg HTTP/1.1\u001b[0m\" 200 -\n",
            "127.0.0.1 - - [02/Sep/2021 13:36:57] \"\u001b[37mGET /static/assets/images/slide_04.jpg HTTP/1.1\u001b[0m\" 200 -\n",
            "127.0.0.1 - - [02/Sep/2021 13:36:57] \"\u001b[37mGET /static/assets/images/slide_01.jpg HTTP/1.1\u001b[0m\" 200 -\n",
            "127.0.0.1 - - [02/Sep/2021 13:36:57] \"\u001b[37mGET /static/assets/images/slide_03.jpg HTTP/1.1\u001b[0m\" 200 -\n",
            "127.0.0.1 - - [02/Sep/2021 13:36:57] \"\u001b[37mGET /static/assets/fonts/fontawesome-webfont.woff2?v=4.3.0 HTTP/1.1\u001b[0m\" 200 -\n"
          ]
        }
      ]
    }
  ]
}